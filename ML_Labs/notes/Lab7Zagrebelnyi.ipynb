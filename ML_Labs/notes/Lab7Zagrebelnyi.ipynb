{
 "cells": [
  {
   "cell_type": "markdown",
   "metadata": {},
   "source": [
    "# Лабораторная работа №7. \"Полносвязные нейронные сети (многослойный персептрон). Решение задач регрессии и классификации\"\n",
    "\n",
    "*Задание №1.*\n",
    "Решить задачи регрессии и классификации на данных в соответствии с Вашим индивидуальным вариантом (см. Лаб.работы №3, 4), используя полносвязные НС; реализовать НС посредством API Keras и фреймворка TensorFlow; оценить качество полученных моделей с помощью метрик.\n",
    "\n",
    "*Задание №2.*\n",
    "Разработать многослойный персептрон (MLP), с помощью которого можно решать задачи регрессии и классификации. Предусмотреть возможность использования таких функции активации, как sigmoid, tanh и relu; также предусмотреть возможность указать, сколько слоев нужно, сколько на каждом из них нейронов и какую функцию активации должен иметь слой. Реализовать обучение MLP методом обратного распространения ошибки; самостоятельно найти производные функций sigmoid, tanh и relu; реализовать классический градиентный спуск с возможностью указания шага.\n",
    "\n",
    "\n",
    "*Дополнительное Задание №3*.*\n",
    "1. Самостоятельно изучить отличия работы оптимизаторов Adam и RMSProp от классического градиентного спуска.\n",
    "2. Реализовать градиентный спуск с использованием указанных оптимизаторов; предусмотрите возможность использования реализованных вами оптими-заторов в Вашем персептроне."
   ]
  },
  {
   "cell_type": "code",
   "execution_count": 15,
   "metadata": {},
   "outputs": [],
   "source": [
    "import pandas as pd\n",
    "import numpy as np\n",
    "from imblearn.under_sampling import NearMiss\n",
    "from sklearn.model_selection import train_test_split\n",
    "from sklearn.metrics import mean_squared_error, mean_absolute_error\n",
    "from sklearn.metrics import confusion_matrix, classification_report\n",
    "import tensorflow as tf"
   ]
  },
  {
   "cell_type": "markdown",
   "metadata": {},
   "source": [
    "## Задание №1"
   ]
  },
  {
   "cell_type": "markdown",
   "metadata": {},
   "source": [
    "### Загрузка и разбиение датасетов на выборки "
   ]
  },
  {
   "cell_type": "code",
   "execution_count": 16,
   "metadata": {},
   "outputs": [],
   "source": [
    "data_regression = pd.read_csv(\"filteredNotes\\Lab3.csv\")\n",
    "data_classification = pd.read_csv(\"filteredNotes\\Lab4.csv\")"
   ]
  },
  {
   "cell_type": "code",
   "execution_count": 17,
   "metadata": {},
   "outputs": [],
   "source": [
    "y_regression = data_regression[\"price\"]\n",
    "X_regression = data_regression.drop([\"price\", \"Unnamed: 0\"], axis=1)\n",
    "y_classification = data_classification[\"bomb_planted\"]\n",
    "X_classification = data_classification.drop([\"bomb_planted\", \"Unnamed: 0\"], axis=1)"
   ]
  },
  {
   "cell_type": "code",
   "execution_count": 18,
   "metadata": {},
   "outputs": [
    {
     "data": {
      "text/html": [
       "<div>\n",
       "<style scoped>\n",
       "    .dataframe tbody tr th:only-of-type {\n",
       "        vertical-align: middle;\n",
       "    }\n",
       "\n",
       "    .dataframe tbody tr th {\n",
       "        vertical-align: top;\n",
       "    }\n",
       "\n",
       "    .dataframe thead th {\n",
       "        text-align: right;\n",
       "    }\n",
       "</style>\n",
       "<table border=\"1\" class=\"dataframe\">\n",
       "  <thead>\n",
       "    <tr style=\"text-align: right;\">\n",
       "      <th></th>\n",
       "      <th>Unnamed: 0</th>\n",
       "      <th>price</th>\n",
       "      <th>bedrooms</th>\n",
       "      <th>bathrooms</th>\n",
       "      <th>sqft_living</th>\n",
       "      <th>floors</th>\n",
       "      <th>waterfront</th>\n",
       "      <th>view</th>\n",
       "      <th>grade</th>\n",
       "      <th>sqft_above</th>\n",
       "      <th>sqft_basement</th>\n",
       "      <th>yr_built</th>\n",
       "      <th>yr_renovated</th>\n",
       "      <th>sqft_living15</th>\n",
       "      <th>sqft_lot15</th>\n",
       "    </tr>\n",
       "  </thead>\n",
       "  <tbody>\n",
       "    <tr>\n",
       "      <th>0</th>\n",
       "      <td>0</td>\n",
       "      <td>221900.0</td>\n",
       "      <td>3</td>\n",
       "      <td>1.00</td>\n",
       "      <td>1180.0</td>\n",
       "      <td>1</td>\n",
       "      <td>0</td>\n",
       "      <td>0</td>\n",
       "      <td>7</td>\n",
       "      <td>1180</td>\n",
       "      <td>0</td>\n",
       "      <td>1955</td>\n",
       "      <td>0</td>\n",
       "      <td>1340</td>\n",
       "      <td>5650</td>\n",
       "    </tr>\n",
       "    <tr>\n",
       "      <th>1</th>\n",
       "      <td>1</td>\n",
       "      <td>538000.0</td>\n",
       "      <td>3</td>\n",
       "      <td>2.25</td>\n",
       "      <td>2570.0</td>\n",
       "      <td>2</td>\n",
       "      <td>0</td>\n",
       "      <td>0</td>\n",
       "      <td>7</td>\n",
       "      <td>2170</td>\n",
       "      <td>400</td>\n",
       "      <td>1951</td>\n",
       "      <td>1991</td>\n",
       "      <td>1690</td>\n",
       "      <td>7639</td>\n",
       "    </tr>\n",
       "    <tr>\n",
       "      <th>2</th>\n",
       "      <td>2</td>\n",
       "      <td>180000.0</td>\n",
       "      <td>2</td>\n",
       "      <td>1.00</td>\n",
       "      <td>770.0</td>\n",
       "      <td>1</td>\n",
       "      <td>0</td>\n",
       "      <td>0</td>\n",
       "      <td>6</td>\n",
       "      <td>770</td>\n",
       "      <td>0</td>\n",
       "      <td>1933</td>\n",
       "      <td>0</td>\n",
       "      <td>2720</td>\n",
       "      <td>8062</td>\n",
       "    </tr>\n",
       "    <tr>\n",
       "      <th>3</th>\n",
       "      <td>3</td>\n",
       "      <td>604000.0</td>\n",
       "      <td>4</td>\n",
       "      <td>3.00</td>\n",
       "      <td>1960.0</td>\n",
       "      <td>1</td>\n",
       "      <td>0</td>\n",
       "      <td>0</td>\n",
       "      <td>7</td>\n",
       "      <td>1050</td>\n",
       "      <td>910</td>\n",
       "      <td>1965</td>\n",
       "      <td>0</td>\n",
       "      <td>1360</td>\n",
       "      <td>5000</td>\n",
       "    </tr>\n",
       "    <tr>\n",
       "      <th>4</th>\n",
       "      <td>4</td>\n",
       "      <td>510000.0</td>\n",
       "      <td>3</td>\n",
       "      <td>2.00</td>\n",
       "      <td>1680.0</td>\n",
       "      <td>1</td>\n",
       "      <td>0</td>\n",
       "      <td>0</td>\n",
       "      <td>8</td>\n",
       "      <td>1680</td>\n",
       "      <td>0</td>\n",
       "      <td>1987</td>\n",
       "      <td>0</td>\n",
       "      <td>1800</td>\n",
       "      <td>7503</td>\n",
       "    </tr>\n",
       "    <tr>\n",
       "      <th>...</th>\n",
       "      <td>...</td>\n",
       "      <td>...</td>\n",
       "      <td>...</td>\n",
       "      <td>...</td>\n",
       "      <td>...</td>\n",
       "      <td>...</td>\n",
       "      <td>...</td>\n",
       "      <td>...</td>\n",
       "      <td>...</td>\n",
       "      <td>...</td>\n",
       "      <td>...</td>\n",
       "      <td>...</td>\n",
       "      <td>...</td>\n",
       "      <td>...</td>\n",
       "      <td>...</td>\n",
       "    </tr>\n",
       "    <tr>\n",
       "      <th>21394</th>\n",
       "      <td>21608</td>\n",
       "      <td>360000.0</td>\n",
       "      <td>3</td>\n",
       "      <td>2.50</td>\n",
       "      <td>1530.0</td>\n",
       "      <td>3</td>\n",
       "      <td>0</td>\n",
       "      <td>0</td>\n",
       "      <td>8</td>\n",
       "      <td>1530</td>\n",
       "      <td>0</td>\n",
       "      <td>2009</td>\n",
       "      <td>0</td>\n",
       "      <td>1530</td>\n",
       "      <td>1509</td>\n",
       "    </tr>\n",
       "    <tr>\n",
       "      <th>21395</th>\n",
       "      <td>21609</td>\n",
       "      <td>400000.0</td>\n",
       "      <td>4</td>\n",
       "      <td>2.50</td>\n",
       "      <td>2310.0</td>\n",
       "      <td>2</td>\n",
       "      <td>0</td>\n",
       "      <td>0</td>\n",
       "      <td>8</td>\n",
       "      <td>2310</td>\n",
       "      <td>0</td>\n",
       "      <td>2014</td>\n",
       "      <td>0</td>\n",
       "      <td>1830</td>\n",
       "      <td>7200</td>\n",
       "    </tr>\n",
       "    <tr>\n",
       "      <th>21396</th>\n",
       "      <td>21610</td>\n",
       "      <td>402101.0</td>\n",
       "      <td>2</td>\n",
       "      <td>0.75</td>\n",
       "      <td>1020.0</td>\n",
       "      <td>2</td>\n",
       "      <td>0</td>\n",
       "      <td>0</td>\n",
       "      <td>7</td>\n",
       "      <td>1020</td>\n",
       "      <td>0</td>\n",
       "      <td>2009</td>\n",
       "      <td>0</td>\n",
       "      <td>1020</td>\n",
       "      <td>2007</td>\n",
       "    </tr>\n",
       "    <tr>\n",
       "      <th>21397</th>\n",
       "      <td>21611</td>\n",
       "      <td>400000.0</td>\n",
       "      <td>3</td>\n",
       "      <td>2.50</td>\n",
       "      <td>1600.0</td>\n",
       "      <td>2</td>\n",
       "      <td>0</td>\n",
       "      <td>0</td>\n",
       "      <td>8</td>\n",
       "      <td>1600</td>\n",
       "      <td>0</td>\n",
       "      <td>2004</td>\n",
       "      <td>0</td>\n",
       "      <td>1410</td>\n",
       "      <td>1287</td>\n",
       "    </tr>\n",
       "    <tr>\n",
       "      <th>21398</th>\n",
       "      <td>21612</td>\n",
       "      <td>325000.0</td>\n",
       "      <td>2</td>\n",
       "      <td>0.75</td>\n",
       "      <td>1020.0</td>\n",
       "      <td>2</td>\n",
       "      <td>0</td>\n",
       "      <td>0</td>\n",
       "      <td>7</td>\n",
       "      <td>1020</td>\n",
       "      <td>0</td>\n",
       "      <td>2008</td>\n",
       "      <td>0</td>\n",
       "      <td>1020</td>\n",
       "      <td>1357</td>\n",
       "    </tr>\n",
       "  </tbody>\n",
       "</table>\n",
       "<p>21399 rows × 15 columns</p>\n",
       "</div>"
      ],
      "text/plain": [
       "       Unnamed: 0     price  bedrooms  bathrooms  sqft_living  floors  \\\n",
       "0               0  221900.0         3       1.00       1180.0       1   \n",
       "1               1  538000.0         3       2.25       2570.0       2   \n",
       "2               2  180000.0         2       1.00        770.0       1   \n",
       "3               3  604000.0         4       3.00       1960.0       1   \n",
       "4               4  510000.0         3       2.00       1680.0       1   \n",
       "...           ...       ...       ...        ...          ...     ...   \n",
       "21394       21608  360000.0         3       2.50       1530.0       3   \n",
       "21395       21609  400000.0         4       2.50       2310.0       2   \n",
       "21396       21610  402101.0         2       0.75       1020.0       2   \n",
       "21397       21611  400000.0         3       2.50       1600.0       2   \n",
       "21398       21612  325000.0         2       0.75       1020.0       2   \n",
       "\n",
       "       waterfront  view  grade  sqft_above  sqft_basement  yr_built  \\\n",
       "0               0     0      7        1180              0      1955   \n",
       "1               0     0      7        2170            400      1951   \n",
       "2               0     0      6         770              0      1933   \n",
       "3               0     0      7        1050            910      1965   \n",
       "4               0     0      8        1680              0      1987   \n",
       "...           ...   ...    ...         ...            ...       ...   \n",
       "21394           0     0      8        1530              0      2009   \n",
       "21395           0     0      8        2310              0      2014   \n",
       "21396           0     0      7        1020              0      2009   \n",
       "21397           0     0      8        1600              0      2004   \n",
       "21398           0     0      7        1020              0      2008   \n",
       "\n",
       "       yr_renovated  sqft_living15  sqft_lot15  \n",
       "0                 0           1340        5650  \n",
       "1              1991           1690        7639  \n",
       "2                 0           2720        8062  \n",
       "3                 0           1360        5000  \n",
       "4                 0           1800        7503  \n",
       "...             ...            ...         ...  \n",
       "21394             0           1530        1509  \n",
       "21395             0           1830        7200  \n",
       "21396             0           1020        2007  \n",
       "21397             0           1410        1287  \n",
       "21398             0           1020        1357  \n",
       "\n",
       "[21399 rows x 15 columns]"
      ]
     },
     "execution_count": 18,
     "metadata": {},
     "output_type": "execute_result"
    }
   ],
   "source": [
    "data_regression"
   ]
  },
  {
   "cell_type": "markdown",
   "metadata": {},
   "source": []
  },
  {
   "cell_type": "code",
   "execution_count": 19,
   "metadata": {},
   "outputs": [],
   "source": [
    "(\n",
    "    X_regression_train,\n",
    "    X_regression_test,\n",
    "    y_regression_train,\n",
    "    y_regression_test,\n",
    ") = train_test_split(X_regression, y_regression, test_size=0.2)\n",
    "(\n",
    "    X_classification_train,\n",
    "    X_classification_test,\n",
    "    y_classification_train,\n",
    "    y_classification_test,\n",
    ") = train_test_split(\n",
    "    X_classification, y_classification, stratify=y_classification, test_size=0.2\n",
    ")"
   ]
  },
  {
   "cell_type": "code",
   "execution_count": 20,
   "metadata": {},
   "outputs": [
    {
     "data": {
      "text/html": [
       "<div>\n",
       "<style scoped>\n",
       "    .dataframe tbody tr th:only-of-type {\n",
       "        vertical-align: middle;\n",
       "    }\n",
       "\n",
       "    .dataframe tbody tr th {\n",
       "        vertical-align: top;\n",
       "    }\n",
       "\n",
       "    .dataframe thead th {\n",
       "        text-align: right;\n",
       "    }\n",
       "</style>\n",
       "<table border=\"1\" class=\"dataframe\">\n",
       "  <thead>\n",
       "    <tr style=\"text-align: right;\">\n",
       "      <th></th>\n",
       "      <th>time_left</th>\n",
       "      <th>ct_score</th>\n",
       "      <th>t_score</th>\n",
       "      <th>ct_health</th>\n",
       "      <th>t_health</th>\n",
       "      <th>ct_armor</th>\n",
       "      <th>t_armor</th>\n",
       "      <th>ct_money</th>\n",
       "      <th>t_money</th>\n",
       "      <th>ct_helmets</th>\n",
       "      <th>t_helmets</th>\n",
       "      <th>ct_defuse_kits</th>\n",
       "      <th>ct_players_alive</th>\n",
       "      <th>t_players_alive</th>\n",
       "    </tr>\n",
       "  </thead>\n",
       "  <tbody>\n",
       "    <tr>\n",
       "      <th>2165</th>\n",
       "      <td>25.62</td>\n",
       "      <td>9</td>\n",
       "      <td>7</td>\n",
       "      <td>39</td>\n",
       "      <td>32</td>\n",
       "      <td>78</td>\n",
       "      <td>0</td>\n",
       "      <td>1300</td>\n",
       "      <td>3200</td>\n",
       "      <td>1</td>\n",
       "      <td>0</td>\n",
       "      <td>0</td>\n",
       "      <td>1</td>\n",
       "      <td>1</td>\n",
       "    </tr>\n",
       "    <tr>\n",
       "      <th>2206</th>\n",
       "      <td>54.94</td>\n",
       "      <td>14</td>\n",
       "      <td>9</td>\n",
       "      <td>228</td>\n",
       "      <td>279</td>\n",
       "      <td>199</td>\n",
       "      <td>289</td>\n",
       "      <td>8400</td>\n",
       "      <td>8650</td>\n",
       "      <td>1</td>\n",
       "      <td>3</td>\n",
       "      <td>1</td>\n",
       "      <td>3</td>\n",
       "      <td>3</td>\n",
       "    </tr>\n",
       "    <tr>\n",
       "      <th>61083</th>\n",
       "      <td>114.94</td>\n",
       "      <td>4</td>\n",
       "      <td>1</td>\n",
       "      <td>500</td>\n",
       "      <td>500</td>\n",
       "      <td>492</td>\n",
       "      <td>300</td>\n",
       "      <td>10350</td>\n",
       "      <td>9200</td>\n",
       "      <td>4</td>\n",
       "      <td>1</td>\n",
       "      <td>2</td>\n",
       "      <td>5</td>\n",
       "      <td>5</td>\n",
       "    </tr>\n",
       "    <tr>\n",
       "      <th>52074</th>\n",
       "      <td>175.00</td>\n",
       "      <td>8</td>\n",
       "      <td>6</td>\n",
       "      <td>500</td>\n",
       "      <td>500</td>\n",
       "      <td>461</td>\n",
       "      <td>300</td>\n",
       "      <td>14350</td>\n",
       "      <td>10300</td>\n",
       "      <td>5</td>\n",
       "      <td>3</td>\n",
       "      <td>4</td>\n",
       "      <td>5</td>\n",
       "      <td>5</td>\n",
       "    </tr>\n",
       "    <tr>\n",
       "      <th>27353</th>\n",
       "      <td>14.91</td>\n",
       "      <td>4</td>\n",
       "      <td>5</td>\n",
       "      <td>371</td>\n",
       "      <td>300</td>\n",
       "      <td>400</td>\n",
       "      <td>300</td>\n",
       "      <td>3200</td>\n",
       "      <td>5000</td>\n",
       "      <td>2</td>\n",
       "      <td>3</td>\n",
       "      <td>2</td>\n",
       "      <td>4</td>\n",
       "      <td>3</td>\n",
       "    </tr>\n",
       "    <tr>\n",
       "      <th>...</th>\n",
       "      <td>...</td>\n",
       "      <td>...</td>\n",
       "      <td>...</td>\n",
       "      <td>...</td>\n",
       "      <td>...</td>\n",
       "      <td>...</td>\n",
       "      <td>...</td>\n",
       "      <td>...</td>\n",
       "      <td>...</td>\n",
       "      <td>...</td>\n",
       "      <td>...</td>\n",
       "      <td>...</td>\n",
       "      <td>...</td>\n",
       "      <td>...</td>\n",
       "    </tr>\n",
       "    <tr>\n",
       "      <th>9311</th>\n",
       "      <td>169.91</td>\n",
       "      <td>6</td>\n",
       "      <td>8</td>\n",
       "      <td>500</td>\n",
       "      <td>500</td>\n",
       "      <td>0</td>\n",
       "      <td>91</td>\n",
       "      <td>10700</td>\n",
       "      <td>20450</td>\n",
       "      <td>0</td>\n",
       "      <td>0</td>\n",
       "      <td>0</td>\n",
       "      <td>5</td>\n",
       "      <td>5</td>\n",
       "    </tr>\n",
       "    <tr>\n",
       "      <th>55587</th>\n",
       "      <td>54.95</td>\n",
       "      <td>4</td>\n",
       "      <td>9</td>\n",
       "      <td>327</td>\n",
       "      <td>239</td>\n",
       "      <td>189</td>\n",
       "      <td>281</td>\n",
       "      <td>9050</td>\n",
       "      <td>23250</td>\n",
       "      <td>0</td>\n",
       "      <td>3</td>\n",
       "      <td>0</td>\n",
       "      <td>4</td>\n",
       "      <td>3</td>\n",
       "    </tr>\n",
       "    <tr>\n",
       "      <th>3409</th>\n",
       "      <td>174.94</td>\n",
       "      <td>6</td>\n",
       "      <td>6</td>\n",
       "      <td>500</td>\n",
       "      <td>500</td>\n",
       "      <td>300</td>\n",
       "      <td>0</td>\n",
       "      <td>20700</td>\n",
       "      <td>33150</td>\n",
       "      <td>2</td>\n",
       "      <td>0</td>\n",
       "      <td>2</td>\n",
       "      <td>5</td>\n",
       "      <td>5</td>\n",
       "    </tr>\n",
       "    <tr>\n",
       "      <th>42519</th>\n",
       "      <td>74.94</td>\n",
       "      <td>5</td>\n",
       "      <td>14</td>\n",
       "      <td>212</td>\n",
       "      <td>345</td>\n",
       "      <td>300</td>\n",
       "      <td>319</td>\n",
       "      <td>3050</td>\n",
       "      <td>20150</td>\n",
       "      <td>3</td>\n",
       "      <td>4</td>\n",
       "      <td>3</td>\n",
       "      <td>3</td>\n",
       "      <td>4</td>\n",
       "    </tr>\n",
       "    <tr>\n",
       "      <th>32726</th>\n",
       "      <td>30.37</td>\n",
       "      <td>9</td>\n",
       "      <td>10</td>\n",
       "      <td>434</td>\n",
       "      <td>300</td>\n",
       "      <td>456</td>\n",
       "      <td>300</td>\n",
       "      <td>17750</td>\n",
       "      <td>2350</td>\n",
       "      <td>5</td>\n",
       "      <td>3</td>\n",
       "      <td>3</td>\n",
       "      <td>5</td>\n",
       "      <td>3</td>\n",
       "    </tr>\n",
       "  </tbody>\n",
       "</table>\n",
       "<p>89590 rows × 14 columns</p>\n",
       "</div>"
      ],
      "text/plain": [
       "       time_left  ct_score  t_score  ct_health  t_health  ct_armor  t_armor  \\\n",
       "2165       25.62         9        7         39        32        78        0   \n",
       "2206       54.94        14        9        228       279       199      289   \n",
       "61083     114.94         4        1        500       500       492      300   \n",
       "52074     175.00         8        6        500       500       461      300   \n",
       "27353      14.91         4        5        371       300       400      300   \n",
       "...          ...       ...      ...        ...       ...       ...      ...   \n",
       "9311      169.91         6        8        500       500         0       91   \n",
       "55587      54.95         4        9        327       239       189      281   \n",
       "3409      174.94         6        6        500       500       300        0   \n",
       "42519      74.94         5       14        212       345       300      319   \n",
       "32726      30.37         9       10        434       300       456      300   \n",
       "\n",
       "       ct_money  t_money  ct_helmets  t_helmets  ct_defuse_kits  \\\n",
       "2165       1300     3200           1          0               0   \n",
       "2206       8400     8650           1          3               1   \n",
       "61083     10350     9200           4          1               2   \n",
       "52074     14350    10300           5          3               4   \n",
       "27353      3200     5000           2          3               2   \n",
       "...         ...      ...         ...        ...             ...   \n",
       "9311      10700    20450           0          0               0   \n",
       "55587      9050    23250           0          3               0   \n",
       "3409      20700    33150           2          0               2   \n",
       "42519      3050    20150           3          4               3   \n",
       "32726     17750     2350           5          3               3   \n",
       "\n",
       "       ct_players_alive  t_players_alive  \n",
       "2165                  1                1  \n",
       "2206                  3                3  \n",
       "61083                 5                5  \n",
       "52074                 5                5  \n",
       "27353                 4                3  \n",
       "...                 ...              ...  \n",
       "9311                  5                5  \n",
       "55587                 4                3  \n",
       "3409                  5                5  \n",
       "42519                 3                4  \n",
       "32726                 5                3  \n",
       "\n",
       "[89590 rows x 14 columns]"
      ]
     },
     "execution_count": 20,
     "metadata": {},
     "output_type": "execute_result"
    }
   ],
   "source": [
    "X_classification_train"
   ]
  },
  {
   "cell_type": "markdown",
   "metadata": {},
   "source": [
    "### Обучение модели регрессии"
   ]
  },
  {
   "cell_type": "code",
   "execution_count": 21,
   "metadata": {},
   "outputs": [],
   "source": [
    "# создаем модель, как набор последовательных слоев\n",
    "model_regression = tf.keras.Sequential(\n",
    "    [\n",
    "        # Dense - полносвязный слой (каждый нейрон следующего слоя связан со всеми нейронами предыдущего)\n",
    "        tf.keras.layers.Dense(64, activation=\"relu\", input_shape=(13,)),\n",
    "        # на втором скрытом слое будет 32 нейрона\n",
    "        tf.keras.layers.Dense(32, activation=\"linear\"),\n",
    "        # Dropout позволяет внести фактор случайности - при обучении часть нейронов будет отключаться\n",
    "        # каждый нейрон, в данном случае, будет отключаться с вероятностью 0.1\n",
    "        tf.keras.layers.Dropout(0.1),\n",
    "        tf.keras.layers.Dense(16, activation=\"relu\"),\n",
    "        tf.keras.layers.Dropout(0.1),\n",
    "        # на выходе один нейрон, функция активации не применяется\n",
    "        tf.keras.layers.Dense(1, activation=\"linear\"),\n",
    "    ]\n",
    ")"
   ]
  },
  {
   "cell_type": "code",
   "execution_count": 22,
   "metadata": {},
   "outputs": [
    {
     "name": "stdout",
     "output_type": "stream",
     "text": [
      "Model: \"sequential_2\"\n",
      "_________________________________________________________________\n",
      " Layer (type)                Output Shape              Param #   \n",
      "=================================================================\n",
      " dense_12 (Dense)            (None, 64)                896       \n",
      "                                                                 \n",
      " dense_13 (Dense)            (None, 32)                2080      \n",
      "                                                                 \n",
      " dropout_2 (Dropout)         (None, 32)                0         \n",
      "                                                                 \n",
      " dense_14 (Dense)            (None, 16)                528       \n",
      "                                                                 \n",
      " dropout_3 (Dropout)         (None, 16)                0         \n",
      "                                                                 \n",
      " dense_15 (Dense)            (None, 1)                 17        \n",
      "                                                                 \n",
      "=================================================================\n",
      "Total params: 3521 (13.75 KB)\n",
      "Trainable params: 3521 (13.75 KB)\n",
      "Non-trainable params: 0 (0.00 Byte)\n",
      "_________________________________________________________________\n"
     ]
    }
   ],
   "source": [
    "model_regression.summary()"
   ]
  },
  {
   "cell_type": "code",
   "execution_count": 23,
   "metadata": {},
   "outputs": [],
   "source": [
    "model_regression.compile(\n",
    "    optimizer=tf.keras.optimizers.Adam(learning_rate=0.005), loss=\"mse\"\n",
    ")"
   ]
  },
  {
   "cell_type": "code",
   "execution_count": 24,
   "metadata": {},
   "outputs": [
    {
     "name": "stdout",
     "output_type": "stream",
     "text": [
      "Epoch 1/30\n"
     ]
    },
    {
     "name": "stdout",
     "output_type": "stream",
     "text": [
      "535/535 [==============================] - 1s 2ms/step - loss: 91628183552.0000\n",
      "Epoch 2/30\n",
      "535/535 [==============================] - 1s 1ms/step - loss: 63421014016.0000\n",
      "Epoch 3/30\n",
      "535/535 [==============================] - 1s 1ms/step - loss: 62706069504.0000\n",
      "Epoch 4/30\n",
      "535/535 [==============================] - 1s 1ms/step - loss: 62648619008.0000\n",
      "Epoch 5/30\n",
      "535/535 [==============================] - 1s 1ms/step - loss: 61953138688.0000\n",
      "Epoch 6/30\n",
      "535/535 [==============================] - 1s 1ms/step - loss: 60821696512.0000\n",
      "Epoch 7/30\n",
      "535/535 [==============================] - 1s 1ms/step - loss: 58916417536.0000\n",
      "Epoch 8/30\n",
      "535/535 [==============================] - 1s 1ms/step - loss: 58098135040.0000\n",
      "Epoch 9/30\n",
      "535/535 [==============================] - 1s 1ms/step - loss: 57107570688.0000\n",
      "Epoch 10/30\n",
      "535/535 [==============================] - 1s 1ms/step - loss: 56689700864.0000\n",
      "Epoch 11/30\n",
      "535/535 [==============================] - 1s 1ms/step - loss: 55350362112.0000\n",
      "Epoch 12/30\n",
      "535/535 [==============================] - 1s 1ms/step - loss: 54926733312.0000\n",
      "Epoch 13/30\n",
      "535/535 [==============================] - 1s 1ms/step - loss: 54647980032.0000\n",
      "Epoch 14/30\n",
      "535/535 [==============================] - 1s 1ms/step - loss: 54071062528.0000\n",
      "Epoch 15/30\n",
      "535/535 [==============================] - 1s 1ms/step - loss: 53860462592.0000\n",
      "Epoch 16/30\n",
      "535/535 [==============================] - 1s 1ms/step - loss: 52933644288.0000\n",
      "Epoch 17/30\n",
      "535/535 [==============================] - 1s 1ms/step - loss: 52895211520.0000\n",
      "Epoch 18/30\n",
      "535/535 [==============================] - 1s 1ms/step - loss: 52317220864.0000\n",
      "Epoch 19/30\n",
      "535/535 [==============================] - 1s 1ms/step - loss: 52695040000.0000\n",
      "Epoch 20/30\n",
      "535/535 [==============================] - 1s 1ms/step - loss: 52695023616.0000\n",
      "Epoch 21/30\n",
      "535/535 [==============================] - 1s 1ms/step - loss: 50931642368.0000\n",
      "Epoch 22/30\n",
      "535/535 [==============================] - 1s 1ms/step - loss: 50743820288.0000\n",
      "Epoch 23/30\n",
      "535/535 [==============================] - 1s 1ms/step - loss: 51577479168.0000\n",
      "Epoch 24/30\n",
      "535/535 [==============================] - 1s 1ms/step - loss: 50820464640.0000\n",
      "Epoch 25/30\n",
      "535/535 [==============================] - 1s 1ms/step - loss: 51371425792.0000\n",
      "Epoch 26/30\n",
      "535/535 [==============================] - 1s 1ms/step - loss: 51222827008.0000\n",
      "Epoch 27/30\n",
      "535/535 [==============================] - 1s 1ms/step - loss: 50463305728.0000\n",
      "Epoch 28/30\n",
      "535/535 [==============================] - 1s 1ms/step - loss: 51592159232.0000\n",
      "Epoch 29/30\n",
      "535/535 [==============================] - 1s 1ms/step - loss: 50835947520.0000\n",
      "Epoch 30/30\n",
      "535/535 [==============================] - 1s 1ms/step - loss: 51272679424.0000\n"
     ]
    },
    {
     "data": {
      "text/plain": [
       "<keras.src.callbacks.History at 0x19b7ddd4550>"
      ]
     },
     "execution_count": 24,
     "metadata": {},
     "output_type": "execute_result"
    }
   ],
   "source": [
    "model_regression.fit(X_regression_train, y_regression_train, epochs=30)"
   ]
  },
  {
   "cell_type": "code",
   "execution_count": 25,
   "metadata": {},
   "outputs": [
    {
     "name": "stdout",
     "output_type": "stream",
     "text": [
      "134/134 [==============================] - 0s 863us/step\n",
      "144454.7277635806\n",
      "134/134 [==============================] - 0s 883us/step\n",
      "43509342631.446205\n"
     ]
    }
   ],
   "source": [
    "print(\n",
    "    mean_absolute_error(y_regression_test, model_regression.predict(X_regression_test))\n",
    ")\n",
    "print(\n",
    "    mean_squared_error(y_regression_test, model_regression.predict(X_regression_test))\n",
    ")"
   ]
  },
  {
   "cell_type": "markdown",
   "metadata": {},
   "source": [
    "отработало плохо"
   ]
  },
  {
   "cell_type": "markdown",
   "metadata": {},
   "source": [
    "### Обучение модели классификации"
   ]
  },
  {
   "cell_type": "code",
   "execution_count": 26,
   "metadata": {},
   "outputs": [
    {
     "data": {
      "text/plain": [
       "<keras.src.callbacks.History at 0x19b0725c8d0>"
      ]
     },
     "execution_count": 26,
     "metadata": {},
     "output_type": "execute_result"
    }
   ],
   "source": [
    "model_classification_1 = tf.keras.Sequential(\n",
    "    [\n",
    "        tf.keras.layers.Dense(64, activation=\"relu\", input_shape=(14,)),\n",
    "        tf.keras.layers.Dense(128, activation=\"relu\"),\n",
    "        tf.keras.layers.Dropout(0.05),\n",
    "        tf.keras.layers.Dense(64, activation=\"relu\"),\n",
    "        tf.keras.layers.Dense(32, activation=\"relu\"),\n",
    "        tf.keras.layers.Dense(16, activation=\"relu\"),\n",
    "        # сначала используем 1 нейрон и sigmoid\n",
    "        tf.keras.layers.Dense(1, activation=\"sigmoid\"),\n",
    "    ]\n",
    ")\n",
    "# в качестве функции активации используется бинарная  кроссэнтропия\n",
    "model_classification_1.compile(\n",
    "    optimizer=tf.keras.optimizers.Adam(learning_rate=0.001), loss=\"mse\"\n",
    ")\n",
    "# verbose=None - не будет логов\n",
    "model_classification_1.fit(\n",
    "    X_classification_train, y_classification_train, epochs=25, verbose=None\n",
    ")"
   ]
  },
  {
   "cell_type": "code",
   "execution_count": 27,
   "metadata": {},
   "outputs": [
    {
     "name": "stdout",
     "output_type": "stream",
     "text": [
      "              precision    recall  f1-score   support\n",
      "\n",
      "           0       0.00      0.00      0.00     19752\n",
      "           1       0.12      1.00      0.21      2646\n",
      "\n",
      "    accuracy                           0.12     22398\n",
      "   macro avg       0.06      0.50      0.11     22398\n",
      "weighted avg       0.01      0.12      0.02     22398\n",
      "\n",
      "[[    0 19752]\n",
      " [    0  2646]]\n"
     ]
    },
    {
     "name": "stderr",
     "output_type": "stream",
     "text": [
      "c:\\Users\\vlszg\\AppData\\Local\\Programs\\Python\\Python311\\Lib\\site-packages\\sklearn\\metrics\\_classification.py:1471: UndefinedMetricWarning: Precision and F-score are ill-defined and being set to 0.0 in labels with no predicted samples. Use `zero_division` parameter to control this behavior.\n",
      "  _warn_prf(average, modifier, msg_start, len(result))\n",
      "c:\\Users\\vlszg\\AppData\\Local\\Programs\\Python\\Python311\\Lib\\site-packages\\sklearn\\metrics\\_classification.py:1471: UndefinedMetricWarning: Precision and F-score are ill-defined and being set to 0.0 in labels with no predicted samples. Use `zero_division` parameter to control this behavior.\n",
      "  _warn_prf(average, modifier, msg_start, len(result))\n",
      "c:\\Users\\vlszg\\AppData\\Local\\Programs\\Python\\Python311\\Lib\\site-packages\\sklearn\\metrics\\_classification.py:1471: UndefinedMetricWarning: Precision and F-score are ill-defined and being set to 0.0 in labels with no predicted samples. Use `zero_division` parameter to control this behavior.\n",
      "  _warn_prf(average, modifier, msg_start, len(result))\n"
     ]
    }
   ],
   "source": [
    "y_pred = np.around(model_classification_1.predict(X_classification_test, verbose=None))\n",
    "print(classification_report(y_classification_test, y_pred))\n",
    "print(confusion_matrix(y_classification_test, y_pred))"
   ]
  },
  {
   "cell_type": "markdown",
   "metadata": {},
   "source": [
    "результаты не очень - очень много ошибок второго рода"
   ]
  },
  {
   "cell_type": "code",
   "execution_count": 28,
   "metadata": {},
   "outputs": [],
   "source": [
    "w0 = 1 / y_classification_train[y_classification_train == 0].shape[0]\n",
    "w1 = 1 / y_classification_train[y_classification_train == 1].shape[0]"
   ]
  },
  {
   "cell_type": "code",
   "execution_count": 29,
   "metadata": {},
   "outputs": [
    {
     "name": "stdout",
     "output_type": "stream",
     "text": [
      "              precision    recall  f1-score   support\n",
      "\n",
      "           0       1.00      0.90      0.95     19752\n",
      "           1       0.58      0.98      0.73      2646\n",
      "\n",
      "    accuracy                           0.91     22398\n",
      "   macro avg       0.79      0.94      0.84     22398\n",
      "weighted avg       0.95      0.91      0.92     22398\n",
      "\n",
      "[[17845  1907]\n",
      " [   57  2589]]\n"
     ]
    }
   ],
   "source": [
    "model_classification_1 = tf.keras.Sequential(\n",
    "    [\n",
    "        tf.keras.layers.Dense(64, activation=\"relu\", input_shape=(14,)),\n",
    "        tf.keras.layers.Dense(128, activation=\"relu\"),\n",
    "        tf.keras.layers.Dropout(0.05),\n",
    "        tf.keras.layers.Dense(64, activation=\"relu\"),\n",
    "        tf.keras.layers.Dense(32, activation=\"relu\"),\n",
    "        tf.keras.layers.Dense(16, activation=\"relu\"),\n",
    "        # используем 1 нейрон и sigmoid\n",
    "        tf.keras.layers.Dense(1, activation=\"sigmoid\"),\n",
    "    ]\n",
    ")\n",
    "model_classification_1.compile(\n",
    "    optimizer=tf.keras.optimizers.Adam(learning_rate=0.005), loss=\"binary_crossentropy\"\n",
    ")\n",
    "model_classification_1.fit(\n",
    "    X_classification_train,\n",
    "    y_classification_train,\n",
    "    epochs=25,\n",
    "    verbose=None,\n",
    "    class_weight={0: w0, 1: w1},\n",
    ")\n",
    "y_pred = np.around(model_classification_1.predict(X_classification_test, verbose=None))\n",
    "print(classification_report(y_classification_test, y_pred))\n",
    "print(confusion_matrix(y_classification_test, y_pred))"
   ]
  },
  {
   "cell_type": "markdown",
   "metadata": {},
   "source": [
    "Стало гораздно лучше"
   ]
  },
  {
   "cell_type": "code",
   "execution_count": 30,
   "metadata": {},
   "outputs": [
    {
     "data": {
      "text/plain": [
       "<keras.src.callbacks.History at 0x19b0b66f150>"
      ]
     },
     "execution_count": 30,
     "metadata": {},
     "output_type": "execute_result"
    }
   ],
   "source": [
    "model_classification_2 = tf.keras.Sequential(\n",
    "    [\n",
    "        tf.keras.layers.Dense(64, activation=\"relu\", input_shape=(14,)),\n",
    "        tf.keras.layers.Dense(128, activation=\"relu\"),\n",
    "        tf.keras.layers.Dropout(0.05),\n",
    "        tf.keras.layers.Dense(64, activation=\"relu\"),\n",
    "        tf.keras.layers.Dense(32, activation=\"relu\"),\n",
    "        tf.keras.layers.Dense(16, activation=\"relu\"),\n",
    "        # сначала используем 2 нейрона и softmax\n",
    "        tf.keras.layers.Dense(2, activation=\"softmax\"),\n",
    "    ]\n",
    ")\n",
    "# в качестве функции активации используется категориальная кроссэнтропия\n",
    "# используем разряженный (sparse) вариант, поскольку значения целевого признака не закодированы One-Hot кодированием\n",
    "model_classification_2.compile(\n",
    "    optimizer=tf.keras.optimizers.Adam(learning_rate=0.005),\n",
    "    loss=\"sparse_categorical_crossentropy\",\n",
    ")\n",
    "model_classification_2.fit(\n",
    "    X_classification_train,\n",
    "    y_classification_train,\n",
    "    epochs=25,\n",
    "    verbose=None,\n",
    "    class_weight={0: w0, 1: w1},\n",
    ")"
   ]
  },
  {
   "cell_type": "code",
   "execution_count": 31,
   "metadata": {},
   "outputs": [
    {
     "data": {
      "text/plain": [
       "array([[0.3844817 , 0.6155183 ],\n",
       "       [0.9565685 , 0.04343155],\n",
       "       [0.19388534, 0.8061147 ],\n",
       "       [0.36006734, 0.6399327 ],\n",
       "       [0.9863929 , 0.01360706]], dtype=float32)"
      ]
     },
     "execution_count": 31,
     "metadata": {},
     "output_type": "execute_result"
    }
   ],
   "source": [
    "model_classification_2.predict(X_classification_test, verbose=None)[:5]"
   ]
  },
  {
   "cell_type": "code",
   "execution_count": 32,
   "metadata": {},
   "outputs": [],
   "source": [
    "y_pred = [\n",
    "    np.argmax(pred)\n",
    "    for pred in model_classification_2.predict(X_classification_test, verbose=None)\n",
    "]"
   ]
  },
  {
   "cell_type": "code",
   "execution_count": 33,
   "metadata": {},
   "outputs": [
    {
     "name": "stdout",
     "output_type": "stream",
     "text": [
      "              precision    recall  f1-score   support\n",
      "\n",
      "           0       0.99      0.70      0.82     19752\n",
      "           1       0.30      0.97      0.46      2646\n",
      "\n",
      "    accuracy                           0.73     22398\n",
      "   macro avg       0.65      0.83      0.64     22398\n",
      "weighted avg       0.91      0.73      0.78     22398\n",
      "\n",
      "[[13760  5992]\n",
      " [   92  2554]]\n"
     ]
    }
   ],
   "source": [
    "print(classification_report(y_classification_test, y_pred))\n",
    "print(confusion_matrix(y_classification_test, y_pred))"
   ]
  },
  {
   "cell_type": "code",
   "execution_count": 34,
   "metadata": {},
   "outputs": [
    {
     "name": "stderr",
     "output_type": "stream",
     "text": [
      "c:\\Users\\vlszg\\AppData\\Local\\Programs\\Python\\Python311\\Lib\\site-packages\\keras\\src\\engine\\training.py:3103: UserWarning: You are saving your model as an HDF5 file via `model.save()`. This file format is considered legacy. We recommend using instead the native Keras format, e.g. `model.save('my_model.keras')`.\n",
      "  saving_api.save_model(\n"
     ]
    }
   ],
   "source": [
    "import pickle\n",
    "    \n",
    "model_classification_1.save('C:/MLforGIt/ML_RGR/Models/NN.h5')"
   ]
  },
  {
   "cell_type": "markdown",
   "metadata": {},
   "source": [
    "Тут напротив - большой завал в один из классов"
   ]
  },
  {
   "cell_type": "markdown",
   "metadata": {},
   "source": [
    "Попробуем устранить дисбаланс с помощью NearMiss"
   ]
  },
  {
   "cell_type": "code",
   "execution_count": 35,
   "metadata": {},
   "outputs": [
    {
     "name": "stdout",
     "output_type": "stream",
     "text": [
      "1: 10582\n",
      "0: 79008\n"
     ]
    }
   ],
   "source": [
    "print(f\"1: {sum(y_classification_train == 1)}\")\n",
    "print(f\"0: {sum(y_classification_train == 0)}\")"
   ]
  },
  {
   "cell_type": "code",
   "execution_count": 36,
   "metadata": {},
   "outputs": [],
   "source": [
    "nm = NearMiss()\n",
    "X_classification_train, y_classification_train = nm.fit_resample(\n",
    "    X_classification_train, y_classification_train.ravel()\n",
    ")"
   ]
  },
  {
   "cell_type": "code",
   "execution_count": 37,
   "metadata": {},
   "outputs": [
    {
     "name": "stdout",
     "output_type": "stream",
     "text": [
      "1: 10582\n",
      "0: 10582\n"
     ]
    }
   ],
   "source": [
    "print(f\"1: {sum(y_classification_train == 1)}\")\n",
    "print(f\"0: {sum(y_classification_train == 0)}\")"
   ]
  },
  {
   "cell_type": "code",
   "execution_count": 38,
   "metadata": {},
   "outputs": [
    {
     "data": {
      "text/plain": [
       "<keras.src.callbacks.History at 0x19b12840050>"
      ]
     },
     "execution_count": 38,
     "metadata": {},
     "output_type": "execute_result"
    }
   ],
   "source": [
    "model_classification_1 = tf.keras.Sequential(\n",
    "    [\n",
    "        tf.keras.layers.Dense(64, activation=\"relu\", input_shape=(14,)),\n",
    "        tf.keras.layers.Dense(128, activation=\"relu\"),\n",
    "        tf.keras.layers.Dropout(0.05),\n",
    "        tf.keras.layers.Dense(64, activation=\"relu\"),\n",
    "        tf.keras.layers.Dense(32, activation=\"relu\"),\n",
    "        tf.keras.layers.Dense(16, activation=\"relu\"),\n",
    "        # сначала используем 1 нейрон и sigmoid\n",
    "        tf.keras.layers.Dense(1, activation=\"sigmoid\"),\n",
    "    ]\n",
    ")\n",
    "# в качестве функции активации используется бинарная  кроссэнтропия\n",
    "model_classification_1.compile(\n",
    "    optimizer=tf.keras.optimizers.Adam(learning_rate=0.001), loss=\"mse\"\n",
    ")\n",
    "# verbose=None - не будет логов\n",
    "model_classification_1.fit(\n",
    "    X_classification_train, y_classification_train, epochs=25, verbose=None\n",
    ")"
   ]
  },
  {
   "cell_type": "code",
   "execution_count": 39,
   "metadata": {},
   "outputs": [
    {
     "name": "stdout",
     "output_type": "stream",
     "text": [
      "              precision    recall  f1-score   support\n",
      "\n",
      "           0       0.88      1.00      0.94     19752\n",
      "           1       0.00      0.00      0.00      2646\n",
      "\n",
      "    accuracy                           0.88     22398\n",
      "   macro avg       0.44      0.50      0.47     22398\n",
      "weighted avg       0.78      0.88      0.83     22398\n",
      "\n",
      "[[19752     0]\n",
      " [ 2646     0]]\n"
     ]
    },
    {
     "name": "stderr",
     "output_type": "stream",
     "text": [
      "c:\\Users\\vlszg\\AppData\\Local\\Programs\\Python\\Python311\\Lib\\site-packages\\sklearn\\metrics\\_classification.py:1471: UndefinedMetricWarning: Precision and F-score are ill-defined and being set to 0.0 in labels with no predicted samples. Use `zero_division` parameter to control this behavior.\n",
      "  _warn_prf(average, modifier, msg_start, len(result))\n",
      "c:\\Users\\vlszg\\AppData\\Local\\Programs\\Python\\Python311\\Lib\\site-packages\\sklearn\\metrics\\_classification.py:1471: UndefinedMetricWarning: Precision and F-score are ill-defined and being set to 0.0 in labels with no predicted samples. Use `zero_division` parameter to control this behavior.\n",
      "  _warn_prf(average, modifier, msg_start, len(result))\n",
      "c:\\Users\\vlszg\\AppData\\Local\\Programs\\Python\\Python311\\Lib\\site-packages\\sklearn\\metrics\\_classification.py:1471: UndefinedMetricWarning: Precision and F-score are ill-defined and being set to 0.0 in labels with no predicted samples. Use `zero_division` parameter to control this behavior.\n",
      "  _warn_prf(average, modifier, msg_start, len(result))\n"
     ]
    }
   ],
   "source": [
    "y_pred = np.around(model_classification_1.predict(X_classification_test, verbose=None))\n",
    "print(classification_report(y_classification_test, y_pred))\n",
    "print(confusion_matrix(y_classification_test, y_pred))"
   ]
  },
  {
   "cell_type": "markdown",
   "metadata": {},
   "source": [
    "с binary_crossentropy получилось лучше всего"
   ]
  },
  {
   "cell_type": "code",
   "execution_count": 40,
   "metadata": {},
   "outputs": [
    {
     "name": "stdout",
     "output_type": "stream",
     "text": [
      "              precision    recall  f1-score   support\n",
      "\n",
      "           0       1.00      0.47      0.64     19752\n",
      "           1       0.20      1.00      0.34      2646\n",
      "\n",
      "    accuracy                           0.54     22398\n",
      "   macro avg       0.60      0.74      0.49     22398\n",
      "weighted avg       0.91      0.54      0.61     22398\n",
      "\n",
      "[[ 9350 10402]\n",
      " [    0  2646]]\n"
     ]
    }
   ],
   "source": [
    "model_classification_1 = tf.keras.Sequential(\n",
    "    [\n",
    "        tf.keras.layers.Dense(64, activation=\"relu\", input_shape=(14,)),\n",
    "        tf.keras.layers.Dense(128, activation=\"relu\"),\n",
    "        tf.keras.layers.Dropout(0.05),\n",
    "        tf.keras.layers.Dense(64, activation=\"relu\"),\n",
    "        tf.keras.layers.Dense(32, activation=\"relu\"),\n",
    "        tf.keras.layers.Dense(16, activation=\"relu\"),\n",
    "        # используем 1 нейрон и sigmoid\n",
    "        tf.keras.layers.Dense(1, activation=\"sigmoid\"),\n",
    "    ]\n",
    ")\n",
    "model_classification_1.compile(\n",
    "    optimizer=tf.keras.optimizers.Adam(learning_rate=0.005), loss=\"binary_crossentropy\"\n",
    ")\n",
    "model_classification_1.fit(\n",
    "    X_classification_train,\n",
    "    y_classification_train,\n",
    "    epochs=25,\n",
    "    verbose=None,\n",
    "    class_weight={0: w0, 1: w1},\n",
    ")\n",
    "y_pred = np.around(model_classification_1.predict(X_classification_test, verbose=None))\n",
    "print(classification_report(y_classification_test, y_pred))\n",
    "print(confusion_matrix(y_classification_test, y_pred))"
   ]
  },
  {
   "cell_type": "code",
   "execution_count": 41,
   "metadata": {},
   "outputs": [
    {
     "name": "stderr",
     "output_type": "stream",
     "text": [
      "c:\\Users\\vlszg\\AppData\\Local\\Programs\\Python\\Python311\\Lib\\site-packages\\keras\\src\\engine\\training.py:3103: UserWarning: You are saving your model as an HDF5 file via `model.save()`. This file format is considered legacy. We recommend using instead the native Keras format, e.g. `model.save('my_model.keras')`.\n",
      "  saving_api.save_model(\n"
     ]
    }
   ],
   "source": [
    "model_classification_1.save('C:/MLforGIt/ML_RGR/Models/NN.h5')"
   ]
  },
  {
   "cell_type": "code",
   "execution_count": null,
   "metadata": {},
   "outputs": [],
   "source": []
  }
 ],
 "metadata": {
  "kernelspec": {
   "display_name": "Python 3",
   "language": "python",
   "name": "python3"
  },
  "language_info": {
   "codemirror_mode": {
    "name": "ipython",
    "version": 3
   },
   "file_extension": ".py",
   "mimetype": "text/x-python",
   "name": "python",
   "nbconvert_exporter": "python",
   "pygments_lexer": "ipython3",
   "version": "3.11.5"
  },
  "orig_nbformat": 4
 },
 "nbformat": 4,
 "nbformat_minor": 2
}
