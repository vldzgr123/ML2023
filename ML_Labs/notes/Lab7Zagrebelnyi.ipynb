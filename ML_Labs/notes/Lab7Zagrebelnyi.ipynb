{
 "cells": [
  {
   "cell_type": "markdown",
   "metadata": {},
   "source": [
    "# Лабораторная работа №7. \"Полносвязные нейронные сети (многослойный персептрон). Решение задач регрессии и классификации\"\n",
    "\n",
    "*Задание №1.*\n",
    "Решить задачи регрессии и классификации на данных в соответствии с Вашим индивидуальным вариантом (см. Лаб.работы №3, 4), используя полносвязные НС; реализовать НС посредством API Keras и фреймворка TensorFlow; оценить качество полученных моделей с помощью метрик.\n",
    "\n",
    "*Задание №2.*\n",
    "Разработать многослойный персептрон (MLP), с помощью которого можно решать задачи регрессии и классификации. Предусмотреть возможность использования таких функции активации, как sigmoid, tanh и relu; также предусмотреть возможность указать, сколько слоев нужно, сколько на каждом из них нейронов и какую функцию активации должен иметь слой. Реализовать обучение MLP методом обратного распространения ошибки; самостоятельно найти производные функций sigmoid, tanh и relu; реализовать классический градиентный спуск с возможностью указания шага.\n",
    "\n",
    "\n",
    "*Дополнительное Задание №3*.*\n",
    "1. Самостоятельно изучить отличия работы оптимизаторов Adam и RMSProp от классического градиентного спуска.\n",
    "2. Реализовать градиентный спуск с использованием указанных оптимизаторов; предусмотрите возможность использования реализованных вами оптими-заторов в Вашем персептроне."
   ]
  },
  {
   "cell_type": "code",
   "execution_count": 27,
   "metadata": {},
   "outputs": [],
   "source": [
    "import pandas as pd\n",
    "import numpy as np\n",
    "from imblearn.under_sampling import NearMiss\n",
    "from sklearn.model_selection import train_test_split\n",
    "from sklearn.metrics import mean_squared_error, mean_absolute_error\n",
    "from sklearn.metrics import confusion_matrix, classification_report\n",
    "import tensorflow as tf"
   ]
  },
  {
   "cell_type": "markdown",
   "metadata": {},
   "source": [
    "## Задание №1"
   ]
  },
  {
   "cell_type": "markdown",
   "metadata": {},
   "source": [
    "### Загрузка и разбиение датасетов на выборки "
   ]
  },
  {
   "cell_type": "code",
   "execution_count": 28,
   "metadata": {},
   "outputs": [],
   "source": [
    "data_regression = pd.read_csv(\"filteredNotes\\Lab3.csv\")\n",
    "data_classification = pd.read_csv(\"filteredNotes\\Lab4.csv\")"
   ]
  },
  {
   "cell_type": "code",
   "execution_count": 29,
   "metadata": {},
   "outputs": [],
   "source": [
    "y_regression = data_regression[\"price\"]\n",
    "X_regression = data_regression.drop([\"price\", \"Unnamed: 0\"], axis=1)\n",
    "y_classification = data_classification[\"bomb_planted\"]\n",
    "X_classification = data_classification.drop([\"bomb_planted\", \"Unnamed: 0\"], axis=1)"
   ]
  },
  {
   "cell_type": "code",
   "execution_count": 30,
   "metadata": {},
   "outputs": [
    {
     "data": {
      "text/html": [
       "<div>\n",
       "<style scoped>\n",
       "    .dataframe tbody tr th:only-of-type {\n",
       "        vertical-align: middle;\n",
       "    }\n",
       "\n",
       "    .dataframe tbody tr th {\n",
       "        vertical-align: top;\n",
       "    }\n",
       "\n",
       "    .dataframe thead th {\n",
       "        text-align: right;\n",
       "    }\n",
       "</style>\n",
       "<table border=\"1\" class=\"dataframe\">\n",
       "  <thead>\n",
       "    <tr style=\"text-align: right;\">\n",
       "      <th></th>\n",
       "      <th>Unnamed: 0</th>\n",
       "      <th>price</th>\n",
       "      <th>bedrooms</th>\n",
       "      <th>bathrooms</th>\n",
       "      <th>sqft_living</th>\n",
       "      <th>floors</th>\n",
       "      <th>waterfront</th>\n",
       "      <th>view</th>\n",
       "      <th>grade</th>\n",
       "      <th>sqft_above</th>\n",
       "      <th>sqft_basement</th>\n",
       "      <th>yr_built</th>\n",
       "      <th>yr_renovated</th>\n",
       "      <th>sqft_living15</th>\n",
       "      <th>sqft_lot15</th>\n",
       "    </tr>\n",
       "  </thead>\n",
       "  <tbody>\n",
       "    <tr>\n",
       "      <th>0</th>\n",
       "      <td>0</td>\n",
       "      <td>221900.0</td>\n",
       "      <td>3</td>\n",
       "      <td>1.00</td>\n",
       "      <td>1180.0</td>\n",
       "      <td>1</td>\n",
       "      <td>0</td>\n",
       "      <td>0</td>\n",
       "      <td>7</td>\n",
       "      <td>1180</td>\n",
       "      <td>0</td>\n",
       "      <td>1955</td>\n",
       "      <td>0</td>\n",
       "      <td>1340</td>\n",
       "      <td>5650</td>\n",
       "    </tr>\n",
       "    <tr>\n",
       "      <th>1</th>\n",
       "      <td>1</td>\n",
       "      <td>538000.0</td>\n",
       "      <td>3</td>\n",
       "      <td>2.25</td>\n",
       "      <td>2570.0</td>\n",
       "      <td>2</td>\n",
       "      <td>0</td>\n",
       "      <td>0</td>\n",
       "      <td>7</td>\n",
       "      <td>2170</td>\n",
       "      <td>400</td>\n",
       "      <td>1951</td>\n",
       "      <td>1991</td>\n",
       "      <td>1690</td>\n",
       "      <td>7639</td>\n",
       "    </tr>\n",
       "    <tr>\n",
       "      <th>2</th>\n",
       "      <td>2</td>\n",
       "      <td>180000.0</td>\n",
       "      <td>2</td>\n",
       "      <td>1.00</td>\n",
       "      <td>770.0</td>\n",
       "      <td>1</td>\n",
       "      <td>0</td>\n",
       "      <td>0</td>\n",
       "      <td>6</td>\n",
       "      <td>770</td>\n",
       "      <td>0</td>\n",
       "      <td>1933</td>\n",
       "      <td>0</td>\n",
       "      <td>2720</td>\n",
       "      <td>8062</td>\n",
       "    </tr>\n",
       "    <tr>\n",
       "      <th>3</th>\n",
       "      <td>3</td>\n",
       "      <td>604000.0</td>\n",
       "      <td>4</td>\n",
       "      <td>3.00</td>\n",
       "      <td>1960.0</td>\n",
       "      <td>1</td>\n",
       "      <td>0</td>\n",
       "      <td>0</td>\n",
       "      <td>7</td>\n",
       "      <td>1050</td>\n",
       "      <td>910</td>\n",
       "      <td>1965</td>\n",
       "      <td>0</td>\n",
       "      <td>1360</td>\n",
       "      <td>5000</td>\n",
       "    </tr>\n",
       "    <tr>\n",
       "      <th>4</th>\n",
       "      <td>4</td>\n",
       "      <td>510000.0</td>\n",
       "      <td>3</td>\n",
       "      <td>2.00</td>\n",
       "      <td>1680.0</td>\n",
       "      <td>1</td>\n",
       "      <td>0</td>\n",
       "      <td>0</td>\n",
       "      <td>8</td>\n",
       "      <td>1680</td>\n",
       "      <td>0</td>\n",
       "      <td>1987</td>\n",
       "      <td>0</td>\n",
       "      <td>1800</td>\n",
       "      <td>7503</td>\n",
       "    </tr>\n",
       "    <tr>\n",
       "      <th>...</th>\n",
       "      <td>...</td>\n",
       "      <td>...</td>\n",
       "      <td>...</td>\n",
       "      <td>...</td>\n",
       "      <td>...</td>\n",
       "      <td>...</td>\n",
       "      <td>...</td>\n",
       "      <td>...</td>\n",
       "      <td>...</td>\n",
       "      <td>...</td>\n",
       "      <td>...</td>\n",
       "      <td>...</td>\n",
       "      <td>...</td>\n",
       "      <td>...</td>\n",
       "      <td>...</td>\n",
       "    </tr>\n",
       "    <tr>\n",
       "      <th>21394</th>\n",
       "      <td>21608</td>\n",
       "      <td>360000.0</td>\n",
       "      <td>3</td>\n",
       "      <td>2.50</td>\n",
       "      <td>1530.0</td>\n",
       "      <td>3</td>\n",
       "      <td>0</td>\n",
       "      <td>0</td>\n",
       "      <td>8</td>\n",
       "      <td>1530</td>\n",
       "      <td>0</td>\n",
       "      <td>2009</td>\n",
       "      <td>0</td>\n",
       "      <td>1530</td>\n",
       "      <td>1509</td>\n",
       "    </tr>\n",
       "    <tr>\n",
       "      <th>21395</th>\n",
       "      <td>21609</td>\n",
       "      <td>400000.0</td>\n",
       "      <td>4</td>\n",
       "      <td>2.50</td>\n",
       "      <td>2310.0</td>\n",
       "      <td>2</td>\n",
       "      <td>0</td>\n",
       "      <td>0</td>\n",
       "      <td>8</td>\n",
       "      <td>2310</td>\n",
       "      <td>0</td>\n",
       "      <td>2014</td>\n",
       "      <td>0</td>\n",
       "      <td>1830</td>\n",
       "      <td>7200</td>\n",
       "    </tr>\n",
       "    <tr>\n",
       "      <th>21396</th>\n",
       "      <td>21610</td>\n",
       "      <td>402101.0</td>\n",
       "      <td>2</td>\n",
       "      <td>0.75</td>\n",
       "      <td>1020.0</td>\n",
       "      <td>2</td>\n",
       "      <td>0</td>\n",
       "      <td>0</td>\n",
       "      <td>7</td>\n",
       "      <td>1020</td>\n",
       "      <td>0</td>\n",
       "      <td>2009</td>\n",
       "      <td>0</td>\n",
       "      <td>1020</td>\n",
       "      <td>2007</td>\n",
       "    </tr>\n",
       "    <tr>\n",
       "      <th>21397</th>\n",
       "      <td>21611</td>\n",
       "      <td>400000.0</td>\n",
       "      <td>3</td>\n",
       "      <td>2.50</td>\n",
       "      <td>1600.0</td>\n",
       "      <td>2</td>\n",
       "      <td>0</td>\n",
       "      <td>0</td>\n",
       "      <td>8</td>\n",
       "      <td>1600</td>\n",
       "      <td>0</td>\n",
       "      <td>2004</td>\n",
       "      <td>0</td>\n",
       "      <td>1410</td>\n",
       "      <td>1287</td>\n",
       "    </tr>\n",
       "    <tr>\n",
       "      <th>21398</th>\n",
       "      <td>21612</td>\n",
       "      <td>325000.0</td>\n",
       "      <td>2</td>\n",
       "      <td>0.75</td>\n",
       "      <td>1020.0</td>\n",
       "      <td>2</td>\n",
       "      <td>0</td>\n",
       "      <td>0</td>\n",
       "      <td>7</td>\n",
       "      <td>1020</td>\n",
       "      <td>0</td>\n",
       "      <td>2008</td>\n",
       "      <td>0</td>\n",
       "      <td>1020</td>\n",
       "      <td>1357</td>\n",
       "    </tr>\n",
       "  </tbody>\n",
       "</table>\n",
       "<p>21399 rows × 15 columns</p>\n",
       "</div>"
      ],
      "text/plain": [
       "       Unnamed: 0     price  bedrooms  bathrooms  sqft_living  floors  \\\n",
       "0               0  221900.0         3       1.00       1180.0       1   \n",
       "1               1  538000.0         3       2.25       2570.0       2   \n",
       "2               2  180000.0         2       1.00        770.0       1   \n",
       "3               3  604000.0         4       3.00       1960.0       1   \n",
       "4               4  510000.0         3       2.00       1680.0       1   \n",
       "...           ...       ...       ...        ...          ...     ...   \n",
       "21394       21608  360000.0         3       2.50       1530.0       3   \n",
       "21395       21609  400000.0         4       2.50       2310.0       2   \n",
       "21396       21610  402101.0         2       0.75       1020.0       2   \n",
       "21397       21611  400000.0         3       2.50       1600.0       2   \n",
       "21398       21612  325000.0         2       0.75       1020.0       2   \n",
       "\n",
       "       waterfront  view  grade  sqft_above  sqft_basement  yr_built  \\\n",
       "0               0     0      7        1180              0      1955   \n",
       "1               0     0      7        2170            400      1951   \n",
       "2               0     0      6         770              0      1933   \n",
       "3               0     0      7        1050            910      1965   \n",
       "4               0     0      8        1680              0      1987   \n",
       "...           ...   ...    ...         ...            ...       ...   \n",
       "21394           0     0      8        1530              0      2009   \n",
       "21395           0     0      8        2310              0      2014   \n",
       "21396           0     0      7        1020              0      2009   \n",
       "21397           0     0      8        1600              0      2004   \n",
       "21398           0     0      7        1020              0      2008   \n",
       "\n",
       "       yr_renovated  sqft_living15  sqft_lot15  \n",
       "0                 0           1340        5650  \n",
       "1              1991           1690        7639  \n",
       "2                 0           2720        8062  \n",
       "3                 0           1360        5000  \n",
       "4                 0           1800        7503  \n",
       "...             ...            ...         ...  \n",
       "21394             0           1530        1509  \n",
       "21395             0           1830        7200  \n",
       "21396             0           1020        2007  \n",
       "21397             0           1410        1287  \n",
       "21398             0           1020        1357  \n",
       "\n",
       "[21399 rows x 15 columns]"
      ]
     },
     "execution_count": 30,
     "metadata": {},
     "output_type": "execute_result"
    }
   ],
   "source": [
    "data_regression"
   ]
  },
  {
   "cell_type": "markdown",
   "metadata": {},
   "source": []
  },
  {
   "cell_type": "code",
   "execution_count": 31,
   "metadata": {},
   "outputs": [],
   "source": [
    "(\n",
    "    X_regression_train,\n",
    "    X_regression_test,\n",
    "    y_regression_train,\n",
    "    y_regression_test,\n",
    ") = train_test_split(X_regression, y_regression, test_size=0.2)\n",
    "(\n",
    "    X_classification_train,\n",
    "    X_classification_test,\n",
    "    y_classification_train,\n",
    "    y_classification_test,\n",
    ") = train_test_split(\n",
    "    X_classification, y_classification, stratify=y_classification, test_size=0.2\n",
    ")"
   ]
  },
  {
   "cell_type": "code",
   "execution_count": 32,
   "metadata": {},
   "outputs": [
    {
     "data": {
      "text/html": [
       "<div>\n",
       "<style scoped>\n",
       "    .dataframe tbody tr th:only-of-type {\n",
       "        vertical-align: middle;\n",
       "    }\n",
       "\n",
       "    .dataframe tbody tr th {\n",
       "        vertical-align: top;\n",
       "    }\n",
       "\n",
       "    .dataframe thead th {\n",
       "        text-align: right;\n",
       "    }\n",
       "</style>\n",
       "<table border=\"1\" class=\"dataframe\">\n",
       "  <thead>\n",
       "    <tr style=\"text-align: right;\">\n",
       "      <th></th>\n",
       "      <th>time_left</th>\n",
       "      <th>ct_score</th>\n",
       "      <th>t_score</th>\n",
       "      <th>ct_health</th>\n",
       "      <th>t_health</th>\n",
       "      <th>ct_armor</th>\n",
       "      <th>t_armor</th>\n",
       "      <th>ct_money</th>\n",
       "      <th>t_money</th>\n",
       "      <th>ct_helmets</th>\n",
       "      <th>t_helmets</th>\n",
       "      <th>ct_defuse_kits</th>\n",
       "      <th>ct_players_alive</th>\n",
       "      <th>t_players_alive</th>\n",
       "    </tr>\n",
       "  </thead>\n",
       "  <tbody>\n",
       "    <tr>\n",
       "      <th>41121</th>\n",
       "      <td>61.87</td>\n",
       "      <td>15</td>\n",
       "      <td>14</td>\n",
       "      <td>300</td>\n",
       "      <td>200</td>\n",
       "      <td>298</td>\n",
       "      <td>200</td>\n",
       "      <td>10050</td>\n",
       "      <td>550</td>\n",
       "      <td>3</td>\n",
       "      <td>2</td>\n",
       "      <td>3</td>\n",
       "      <td>3</td>\n",
       "      <td>2</td>\n",
       "    </tr>\n",
       "    <tr>\n",
       "      <th>51015</th>\n",
       "      <td>114.93</td>\n",
       "      <td>1</td>\n",
       "      <td>0</td>\n",
       "      <td>500</td>\n",
       "      <td>500</td>\n",
       "      <td>499</td>\n",
       "      <td>500</td>\n",
       "      <td>2200</td>\n",
       "      <td>1050</td>\n",
       "      <td>4</td>\n",
       "      <td>3</td>\n",
       "      <td>1</td>\n",
       "      <td>5</td>\n",
       "      <td>5</td>\n",
       "    </tr>\n",
       "    <tr>\n",
       "      <th>84776</th>\n",
       "      <td>113.09</td>\n",
       "      <td>6</td>\n",
       "      <td>9</td>\n",
       "      <td>500</td>\n",
       "      <td>500</td>\n",
       "      <td>500</td>\n",
       "      <td>400</td>\n",
       "      <td>700</td>\n",
       "      <td>700</td>\n",
       "      <td>0</td>\n",
       "      <td>0</td>\n",
       "      <td>0</td>\n",
       "      <td>5</td>\n",
       "      <td>5</td>\n",
       "    </tr>\n",
       "    <tr>\n",
       "      <th>86984</th>\n",
       "      <td>99.20</td>\n",
       "      <td>9</td>\n",
       "      <td>15</td>\n",
       "      <td>500</td>\n",
       "      <td>500</td>\n",
       "      <td>490</td>\n",
       "      <td>500</td>\n",
       "      <td>1300</td>\n",
       "      <td>3900</td>\n",
       "      <td>2</td>\n",
       "      <td>5</td>\n",
       "      <td>2</td>\n",
       "      <td>5</td>\n",
       "      <td>5</td>\n",
       "    </tr>\n",
       "    <tr>\n",
       "      <th>59224</th>\n",
       "      <td>54.95</td>\n",
       "      <td>10</td>\n",
       "      <td>0</td>\n",
       "      <td>300</td>\n",
       "      <td>88</td>\n",
       "      <td>282</td>\n",
       "      <td>95</td>\n",
       "      <td>24100</td>\n",
       "      <td>300</td>\n",
       "      <td>3</td>\n",
       "      <td>1</td>\n",
       "      <td>3</td>\n",
       "      <td>3</td>\n",
       "      <td>1</td>\n",
       "    </tr>\n",
       "    <tr>\n",
       "      <th>...</th>\n",
       "      <td>...</td>\n",
       "      <td>...</td>\n",
       "      <td>...</td>\n",
       "      <td>...</td>\n",
       "      <td>...</td>\n",
       "      <td>...</td>\n",
       "      <td>...</td>\n",
       "      <td>...</td>\n",
       "      <td>...</td>\n",
       "      <td>...</td>\n",
       "      <td>...</td>\n",
       "      <td>...</td>\n",
       "      <td>...</td>\n",
       "      <td>...</td>\n",
       "    </tr>\n",
       "    <tr>\n",
       "      <th>76072</th>\n",
       "      <td>32.16</td>\n",
       "      <td>12</td>\n",
       "      <td>8</td>\n",
       "      <td>200</td>\n",
       "      <td>230</td>\n",
       "      <td>200</td>\n",
       "      <td>279</td>\n",
       "      <td>1950</td>\n",
       "      <td>10800</td>\n",
       "      <td>2</td>\n",
       "      <td>3</td>\n",
       "      <td>1</td>\n",
       "      <td>2</td>\n",
       "      <td>3</td>\n",
       "    </tr>\n",
       "    <tr>\n",
       "      <th>49372</th>\n",
       "      <td>74.94</td>\n",
       "      <td>0</td>\n",
       "      <td>0</td>\n",
       "      <td>200</td>\n",
       "      <td>186</td>\n",
       "      <td>100</td>\n",
       "      <td>192</td>\n",
       "      <td>850</td>\n",
       "      <td>1200</td>\n",
       "      <td>0</td>\n",
       "      <td>0</td>\n",
       "      <td>1</td>\n",
       "      <td>2</td>\n",
       "      <td>2</td>\n",
       "    </tr>\n",
       "    <tr>\n",
       "      <th>90134</th>\n",
       "      <td>174.93</td>\n",
       "      <td>0</td>\n",
       "      <td>1</td>\n",
       "      <td>500</td>\n",
       "      <td>500</td>\n",
       "      <td>100</td>\n",
       "      <td>169</td>\n",
       "      <td>10650</td>\n",
       "      <td>19650</td>\n",
       "      <td>0</td>\n",
       "      <td>0</td>\n",
       "      <td>0</td>\n",
       "      <td>5</td>\n",
       "      <td>5</td>\n",
       "    </tr>\n",
       "    <tr>\n",
       "      <th>21689</th>\n",
       "      <td>31.66</td>\n",
       "      <td>0</td>\n",
       "      <td>1</td>\n",
       "      <td>332</td>\n",
       "      <td>206</td>\n",
       "      <td>375</td>\n",
       "      <td>346</td>\n",
       "      <td>400</td>\n",
       "      <td>1100</td>\n",
       "      <td>1</td>\n",
       "      <td>4</td>\n",
       "      <td>0</td>\n",
       "      <td>4</td>\n",
       "      <td>4</td>\n",
       "    </tr>\n",
       "    <tr>\n",
       "      <th>61159</th>\n",
       "      <td>114.93</td>\n",
       "      <td>6</td>\n",
       "      <td>10</td>\n",
       "      <td>500</td>\n",
       "      <td>500</td>\n",
       "      <td>500</td>\n",
       "      <td>500</td>\n",
       "      <td>350</td>\n",
       "      <td>3850</td>\n",
       "      <td>2</td>\n",
       "      <td>5</td>\n",
       "      <td>0</td>\n",
       "      <td>5</td>\n",
       "      <td>5</td>\n",
       "    </tr>\n",
       "  </tbody>\n",
       "</table>\n",
       "<p>89590 rows × 14 columns</p>\n",
       "</div>"
      ],
      "text/plain": [
       "       time_left  ct_score  t_score  ct_health  t_health  ct_armor  t_armor  \\\n",
       "41121      61.87        15       14        300       200       298      200   \n",
       "51015     114.93         1        0        500       500       499      500   \n",
       "84776     113.09         6        9        500       500       500      400   \n",
       "86984      99.20         9       15        500       500       490      500   \n",
       "59224      54.95        10        0        300        88       282       95   \n",
       "...          ...       ...      ...        ...       ...       ...      ...   \n",
       "76072      32.16        12        8        200       230       200      279   \n",
       "49372      74.94         0        0        200       186       100      192   \n",
       "90134     174.93         0        1        500       500       100      169   \n",
       "21689      31.66         0        1        332       206       375      346   \n",
       "61159     114.93         6       10        500       500       500      500   \n",
       "\n",
       "       ct_money  t_money  ct_helmets  t_helmets  ct_defuse_kits  \\\n",
       "41121     10050      550           3          2               3   \n",
       "51015      2200     1050           4          3               1   \n",
       "84776       700      700           0          0               0   \n",
       "86984      1300     3900           2          5               2   \n",
       "59224     24100      300           3          1               3   \n",
       "...         ...      ...         ...        ...             ...   \n",
       "76072      1950    10800           2          3               1   \n",
       "49372       850     1200           0          0               1   \n",
       "90134     10650    19650           0          0               0   \n",
       "21689       400     1100           1          4               0   \n",
       "61159       350     3850           2          5               0   \n",
       "\n",
       "       ct_players_alive  t_players_alive  \n",
       "41121                 3                2  \n",
       "51015                 5                5  \n",
       "84776                 5                5  \n",
       "86984                 5                5  \n",
       "59224                 3                1  \n",
       "...                 ...              ...  \n",
       "76072                 2                3  \n",
       "49372                 2                2  \n",
       "90134                 5                5  \n",
       "21689                 4                4  \n",
       "61159                 5                5  \n",
       "\n",
       "[89590 rows x 14 columns]"
      ]
     },
     "execution_count": 32,
     "metadata": {},
     "output_type": "execute_result"
    }
   ],
   "source": [
    "X_classification_train"
   ]
  },
  {
   "cell_type": "markdown",
   "metadata": {},
   "source": [
    "### Обучение модели регрессии"
   ]
  },
  {
   "cell_type": "code",
   "execution_count": 33,
   "metadata": {},
   "outputs": [],
   "source": [
    "# создаем модель, как набор последовательных слоев\n",
    "model_regression = tf.keras.Sequential(\n",
    "    [\n",
    "        # Dense - полносвязный слой (каждый нейрон следующего слоя связан со всеми нейронами предыдущего)\n",
    "        tf.keras.layers.Dense(64, activation=\"relu\", input_shape=(13,)),\n",
    "        # на втором скрытом слое будет 32 нейрона\n",
    "        tf.keras.layers.Dense(32, activation=\"linear\"),\n",
    "        # Dropout позволяет внести фактор случайности - при обучении часть нейронов будет отключаться\n",
    "        # каждый нейрон, в данном случае, будет отключаться с вероятностью 0.1\n",
    "        tf.keras.layers.Dropout(0.1),\n",
    "        tf.keras.layers.Dense(16, activation=\"relu\"),\n",
    "        tf.keras.layers.Dropout(0.1),\n",
    "        # на выходе один нейрон, функция активации не применяется\n",
    "        tf.keras.layers.Dense(1, activation=\"linear\"),\n",
    "    ]\n",
    ")"
   ]
  },
  {
   "cell_type": "code",
   "execution_count": 34,
   "metadata": {},
   "outputs": [
    {
     "name": "stdout",
     "output_type": "stream",
     "text": [
      "Model: \"sequential_6\"\n",
      "_________________________________________________________________\n",
      " Layer (type)                Output Shape              Param #   \n",
      "=================================================================\n",
      " dense_34 (Dense)            (None, 64)                896       \n",
      "                                                                 \n",
      " dense_35 (Dense)            (None, 32)                2080      \n",
      "                                                                 \n",
      " dropout_7 (Dropout)         (None, 32)                0         \n",
      "                                                                 \n",
      " dense_36 (Dense)            (None, 16)                528       \n",
      "                                                                 \n",
      " dropout_8 (Dropout)         (None, 16)                0         \n",
      "                                                                 \n",
      " dense_37 (Dense)            (None, 1)                 17        \n",
      "                                                                 \n",
      "=================================================================\n",
      "Total params: 3521 (13.75 KB)\n",
      "Trainable params: 3521 (13.75 KB)\n",
      "Non-trainable params: 0 (0.00 Byte)\n",
      "_________________________________________________________________\n"
     ]
    }
   ],
   "source": [
    "model_regression.summary()"
   ]
  },
  {
   "cell_type": "code",
   "execution_count": 35,
   "metadata": {},
   "outputs": [],
   "source": [
    "model_regression.compile(\n",
    "    optimizer=tf.keras.optimizers.Adam(learning_rate=0.005), loss=\"mse\"\n",
    ")"
   ]
  },
  {
   "cell_type": "code",
   "execution_count": 36,
   "metadata": {},
   "outputs": [
    {
     "name": "stdout",
     "output_type": "stream",
     "text": [
      "Epoch 1/30\n"
     ]
    },
    {
     "name": "stdout",
     "output_type": "stream",
     "text": [
      "535/535 [==============================] - 2s 2ms/step - loss: 92970385408.0000\n",
      "Epoch 2/30\n",
      "535/535 [==============================] - 1s 2ms/step - loss: 64175902720.0000\n",
      "Epoch 3/30\n",
      "535/535 [==============================] - 1s 2ms/step - loss: 63264055296.0000\n",
      "Epoch 4/30\n",
      "535/535 [==============================] - 1s 2ms/step - loss: 60346753024.0000\n",
      "Epoch 5/30\n",
      "535/535 [==============================] - 1s 2ms/step - loss: 60343005184.0000\n",
      "Epoch 6/30\n",
      "535/535 [==============================] - 1s 2ms/step - loss: 58304458752.0000\n",
      "Epoch 7/30\n",
      "535/535 [==============================] - 2s 4ms/step - loss: 57851113472.0000\n",
      "Epoch 8/30\n",
      "535/535 [==============================] - 3s 5ms/step - loss: 57205301248.0000\n",
      "Epoch 9/30\n",
      "535/535 [==============================] - 2s 4ms/step - loss: 56999919616.0000\n",
      "Epoch 10/30\n",
      "535/535 [==============================] - 3s 5ms/step - loss: 55080259584.0000\n",
      "Epoch 11/30\n",
      "535/535 [==============================] - 2s 4ms/step - loss: 55102373888.0000\n",
      "Epoch 12/30\n",
      "535/535 [==============================] - 2s 5ms/step - loss: 54983233536.0000\n",
      "Epoch 13/30\n",
      "535/535 [==============================] - 2s 4ms/step - loss: 54672965632.0000\n",
      "Epoch 14/30\n",
      "535/535 [==============================] - 2s 4ms/step - loss: 54360346624.0000\n",
      "Epoch 15/30\n",
      "535/535 [==============================] - 2s 4ms/step - loss: 54791528448.0000\n",
      "Epoch 16/30\n",
      "535/535 [==============================] - 3s 5ms/step - loss: 53354516480.0000\n",
      "Epoch 17/30\n",
      "535/535 [==============================] - 2s 5ms/step - loss: 53908828160.0000\n",
      "Epoch 18/30\n",
      "535/535 [==============================] - 2s 4ms/step - loss: 53389656064.0000\n",
      "Epoch 19/30\n",
      "535/535 [==============================] - 2s 4ms/step - loss: 53618089984.0000\n",
      "Epoch 20/30\n",
      "535/535 [==============================] - 2s 5ms/step - loss: 53320925184.0000\n",
      "Epoch 21/30\n",
      "535/535 [==============================] - 2s 4ms/step - loss: 52380213248.0000\n",
      "Epoch 22/30\n",
      "535/535 [==============================] - 2s 4ms/step - loss: 52241178624.0000\n",
      "Epoch 23/30\n",
      "535/535 [==============================] - 2s 3ms/step - loss: 52677095424.0000\n",
      "Epoch 24/30\n",
      "535/535 [==============================] - 2s 5ms/step - loss: 52779909120.0000\n",
      "Epoch 25/30\n",
      "535/535 [==============================] - 2s 4ms/step - loss: 52351549440.0000\n",
      "Epoch 26/30\n",
      "535/535 [==============================] - 2s 4ms/step - loss: 52231708672.0000\n",
      "Epoch 27/30\n",
      "535/535 [==============================] - 2s 4ms/step - loss: 52783398912.0000\n",
      "Epoch 28/30\n",
      "535/535 [==============================] - 2s 5ms/step - loss: 52403339264.0000\n",
      "Epoch 29/30\n",
      "535/535 [==============================] - 2s 4ms/step - loss: 51757506560.0000\n",
      "Epoch 30/30\n",
      "535/535 [==============================] - 2s 4ms/step - loss: 52677173248.0000\n"
     ]
    },
    {
     "data": {
      "text/plain": [
       "<keras.src.callbacks.History at 0x18e168748d0>"
      ]
     },
     "execution_count": 36,
     "metadata": {},
     "output_type": "execute_result"
    }
   ],
   "source": [
    "model_regression.fit(X_regression_train, y_regression_train, epochs=30)"
   ]
  },
  {
   "cell_type": "code",
   "execution_count": 37,
   "metadata": {},
   "outputs": [
    {
     "name": "stdout",
     "output_type": "stream",
     "text": [
      "134/134 [==============================] - 1s 3ms/step\n",
      "140378.6386463201\n",
      "134/134 [==============================] - 0s 3ms/step\n",
      "45761201947.00683\n"
     ]
    }
   ],
   "source": [
    "print(\n",
    "    mean_absolute_error(y_regression_test, model_regression.predict(X_regression_test))\n",
    ")\n",
    "print(\n",
    "    mean_squared_error(y_regression_test, model_regression.predict(X_regression_test))\n",
    ")"
   ]
  },
  {
   "cell_type": "markdown",
   "metadata": {},
   "source": [
    "отработало плохо"
   ]
  },
  {
   "cell_type": "markdown",
   "metadata": {},
   "source": [
    "### Обучение модели классификации"
   ]
  },
  {
   "cell_type": "code",
   "execution_count": 38,
   "metadata": {},
   "outputs": [
    {
     "data": {
      "text/plain": [
       "<keras.src.callbacks.History at 0x18e067926d0>"
      ]
     },
     "execution_count": 38,
     "metadata": {},
     "output_type": "execute_result"
    }
   ],
   "source": [
    "model_classification_1 = tf.keras.Sequential(\n",
    "    [\n",
    "        tf.keras.layers.Dense(64, activation=\"relu\", input_shape=(14,)),\n",
    "        tf.keras.layers.Dense(128, activation=\"relu\"),\n",
    "        tf.keras.layers.Dropout(0.05),\n",
    "        tf.keras.layers.Dense(64, activation=\"relu\"),\n",
    "        tf.keras.layers.Dense(32, activation=\"relu\"),\n",
    "        tf.keras.layers.Dense(16, activation=\"relu\"),\n",
    "        # сначала используем 1 нейрон и sigmoid\n",
    "        tf.keras.layers.Dense(1, activation=\"sigmoid\"),\n",
    "    ]\n",
    ")\n",
    "# в качестве функции активации используется бинарная  кроссэнтропия\n",
    "model_classification_1.compile(\n",
    "    optimizer=tf.keras.optimizers.Adam(learning_rate=0.001), loss=\"mse\"\n",
    ")\n",
    "# verbose=None - не будет логов\n",
    "model_classification_1.fit(\n",
    "    X_classification_train, y_classification_train, epochs=25, verbose=None\n",
    ")"
   ]
  },
  {
   "cell_type": "code",
   "execution_count": 39,
   "metadata": {},
   "outputs": [
    {
     "name": "stdout",
     "output_type": "stream",
     "text": [
      "              precision    recall  f1-score   support\n",
      "\n",
      "           0       0.88      1.00      0.94     19752\n",
      "           1       0.00      0.00      0.00      2646\n",
      "\n",
      "    accuracy                           0.88     22398\n",
      "   macro avg       0.44      0.50      0.47     22398\n",
      "weighted avg       0.78      0.88      0.83     22398\n",
      "\n",
      "[[19752     0]\n",
      " [ 2646     0]]\n"
     ]
    },
    {
     "name": "stderr",
     "output_type": "stream",
     "text": [
      "c:\\Users\\vlszg\\AppData\\Local\\Programs\\Python\\Python311\\Lib\\site-packages\\sklearn\\metrics\\_classification.py:1471: UndefinedMetricWarning: Precision and F-score are ill-defined and being set to 0.0 in labels with no predicted samples. Use `zero_division` parameter to control this behavior.\n",
      "  _warn_prf(average, modifier, msg_start, len(result))\n",
      "c:\\Users\\vlszg\\AppData\\Local\\Programs\\Python\\Python311\\Lib\\site-packages\\sklearn\\metrics\\_classification.py:1471: UndefinedMetricWarning: Precision and F-score are ill-defined and being set to 0.0 in labels with no predicted samples. Use `zero_division` parameter to control this behavior.\n",
      "  _warn_prf(average, modifier, msg_start, len(result))\n",
      "c:\\Users\\vlszg\\AppData\\Local\\Programs\\Python\\Python311\\Lib\\site-packages\\sklearn\\metrics\\_classification.py:1471: UndefinedMetricWarning: Precision and F-score are ill-defined and being set to 0.0 in labels with no predicted samples. Use `zero_division` parameter to control this behavior.\n",
      "  _warn_prf(average, modifier, msg_start, len(result))\n"
     ]
    }
   ],
   "source": [
    "y_pred = np.around(model_classification_1.predict(X_classification_test, verbose=None))\n",
    "print(classification_report(y_classification_test, y_pred))\n",
    "print(confusion_matrix(y_classification_test, y_pred))"
   ]
  },
  {
   "cell_type": "markdown",
   "metadata": {},
   "source": [
    "результаты не очень - очень много ошибок второго рода"
   ]
  },
  {
   "cell_type": "code",
   "execution_count": 40,
   "metadata": {},
   "outputs": [],
   "source": [
    "w0 = 1 / y_classification_train[y_classification_train == 0].shape[0]\n",
    "w1 = 1 / y_classification_train[y_classification_train == 1].shape[0]"
   ]
  },
  {
   "cell_type": "code",
   "execution_count": 41,
   "metadata": {},
   "outputs": [
    {
     "name": "stdout",
     "output_type": "stream",
     "text": [
      "              precision    recall  f1-score   support\n",
      "\n",
      "           0       1.00      0.89      0.94     19752\n",
      "           1       0.54      0.99      0.70      2646\n",
      "\n",
      "    accuracy                           0.90     22398\n",
      "   macro avg       0.77      0.94      0.82     22398\n",
      "weighted avg       0.94      0.90      0.91     22398\n",
      "\n",
      "[[17524  2228]\n",
      " [   23  2623]]\n"
     ]
    }
   ],
   "source": [
    "model_classification_1 = tf.keras.Sequential(\n",
    "    [\n",
    "        tf.keras.layers.Dense(64, activation=\"relu\", input_shape=(14,)),\n",
    "        tf.keras.layers.Dense(128, activation=\"relu\"),\n",
    "        tf.keras.layers.Dropout(0.05),\n",
    "        tf.keras.layers.Dense(64, activation=\"relu\"),\n",
    "        tf.keras.layers.Dense(32, activation=\"relu\"),\n",
    "        tf.keras.layers.Dense(16, activation=\"relu\"),\n",
    "        # используем 1 нейрон и sigmoid\n",
    "        tf.keras.layers.Dense(1, activation=\"sigmoid\"),\n",
    "    ]\n",
    ")\n",
    "model_classification_1.compile(\n",
    "    optimizer=tf.keras.optimizers.Adam(learning_rate=0.005), loss=\"binary_crossentropy\"\n",
    ")\n",
    "model_classification_1.fit(\n",
    "    X_classification_train,\n",
    "    y_classification_train,\n",
    "    epochs=25,\n",
    "    verbose=None,\n",
    "    class_weight={0: w0, 1: w1},\n",
    ")\n",
    "y_pred = np.around(model_classification_1.predict(X_classification_test, verbose=None))\n",
    "print(classification_report(y_classification_test, y_pred))\n",
    "print(confusion_matrix(y_classification_test, y_pred))"
   ]
  },
  {
   "cell_type": "markdown",
   "metadata": {},
   "source": [
    "Стало гораздно лучше"
   ]
  },
  {
   "cell_type": "code",
   "execution_count": 42,
   "metadata": {},
   "outputs": [
    {
     "data": {
      "text/plain": [
       "<keras.src.callbacks.History at 0x18e16a3d750>"
      ]
     },
     "execution_count": 42,
     "metadata": {},
     "output_type": "execute_result"
    }
   ],
   "source": [
    "model_classification_2 = tf.keras.Sequential(\n",
    "    [\n",
    "        tf.keras.layers.Dense(64, activation=\"relu\", input_shape=(14,)),\n",
    "        tf.keras.layers.Dense(128, activation=\"relu\"),\n",
    "        tf.keras.layers.Dropout(0.05),\n",
    "        tf.keras.layers.Dense(64, activation=\"relu\"),\n",
    "        tf.keras.layers.Dense(32, activation=\"relu\"),\n",
    "        tf.keras.layers.Dense(16, activation=\"relu\"),\n",
    "        # сначала используем 2 нейрона и softmax\n",
    "        tf.keras.layers.Dense(2, activation=\"softmax\"),\n",
    "    ]\n",
    ")\n",
    "# в качестве функции активации используется категориальная кроссэнтропия\n",
    "# используем разряженный (sparse) вариант, поскольку значения целевого признака не закодированы One-Hot кодированием\n",
    "model_classification_2.compile(\n",
    "    optimizer=tf.keras.optimizers.Adam(learning_rate=0.005),\n",
    "    loss=\"sparse_categorical_crossentropy\",\n",
    ")\n",
    "model_classification_2.fit(\n",
    "    X_classification_train,\n",
    "    y_classification_train,\n",
    "    epochs=25,\n",
    "    verbose=None,\n",
    "    class_weight={0: w0, 1: w1},\n",
    ")"
   ]
  },
  {
   "cell_type": "code",
   "execution_count": 43,
   "metadata": {},
   "outputs": [
    {
     "data": {
      "text/plain": [
       "array([[0.52042484, 0.47957516],\n",
       "       [0.52042484, 0.47957516],\n",
       "       [0.52042484, 0.47957516],\n",
       "       [0.52042484, 0.47957516],\n",
       "       [0.52042484, 0.47957516]], dtype=float32)"
      ]
     },
     "execution_count": 43,
     "metadata": {},
     "output_type": "execute_result"
    }
   ],
   "source": [
    "model_classification_2.predict(X_classification_test, verbose=None)[:5]"
   ]
  },
  {
   "cell_type": "code",
   "execution_count": 44,
   "metadata": {},
   "outputs": [],
   "source": [
    "y_pred = [\n",
    "    np.argmax(pred)\n",
    "    for pred in model_classification_2.predict(X_classification_test, verbose=None)\n",
    "]"
   ]
  },
  {
   "cell_type": "code",
   "execution_count": 45,
   "metadata": {},
   "outputs": [
    {
     "name": "stdout",
     "output_type": "stream",
     "text": [
      "              precision    recall  f1-score   support\n",
      "\n",
      "           0       0.88      1.00      0.94     19752\n",
      "           1       0.00      0.00      0.00      2646\n",
      "\n",
      "    accuracy                           0.88     22398\n",
      "   macro avg       0.44      0.50      0.47     22398\n",
      "weighted avg       0.78      0.88      0.83     22398\n",
      "\n",
      "[[19752     0]\n",
      " [ 2646     0]]\n"
     ]
    },
    {
     "name": "stderr",
     "output_type": "stream",
     "text": [
      "c:\\Users\\vlszg\\AppData\\Local\\Programs\\Python\\Python311\\Lib\\site-packages\\sklearn\\metrics\\_classification.py:1471: UndefinedMetricWarning: Precision and F-score are ill-defined and being set to 0.0 in labels with no predicted samples. Use `zero_division` parameter to control this behavior.\n",
      "  _warn_prf(average, modifier, msg_start, len(result))\n",
      "c:\\Users\\vlszg\\AppData\\Local\\Programs\\Python\\Python311\\Lib\\site-packages\\sklearn\\metrics\\_classification.py:1471: UndefinedMetricWarning: Precision and F-score are ill-defined and being set to 0.0 in labels with no predicted samples. Use `zero_division` parameter to control this behavior.\n",
      "  _warn_prf(average, modifier, msg_start, len(result))\n",
      "c:\\Users\\vlszg\\AppData\\Local\\Programs\\Python\\Python311\\Lib\\site-packages\\sklearn\\metrics\\_classification.py:1471: UndefinedMetricWarning: Precision and F-score are ill-defined and being set to 0.0 in labels with no predicted samples. Use `zero_division` parameter to control this behavior.\n",
      "  _warn_prf(average, modifier, msg_start, len(result))\n"
     ]
    }
   ],
   "source": [
    "print(classification_report(y_classification_test, y_pred))\n",
    "print(confusion_matrix(y_classification_test, y_pred))"
   ]
  },
  {
   "cell_type": "code",
   "execution_count": 46,
   "metadata": {},
   "outputs": [
    {
     "name": "stderr",
     "output_type": "stream",
     "text": [
      "c:\\Users\\vlszg\\AppData\\Local\\Programs\\Python\\Python311\\Lib\\site-packages\\keras\\src\\engine\\training.py:3103: UserWarning: You are saving your model as an HDF5 file via `model.save()`. This file format is considered legacy. We recommend using instead the native Keras format, e.g. `model.save('my_model.keras')`.\n",
      "  saving_api.save_model(\n"
     ]
    }
   ],
   "source": [
    "import pickle\n",
    "    \n",
    "model_classification_1.save('C:/MLforGIt/ML_RGR/Models/NN.h5')"
   ]
  },
  {
   "cell_type": "markdown",
   "metadata": {},
   "source": [
    "Тут напротив - большой завал в один из классов"
   ]
  },
  {
   "cell_type": "markdown",
   "metadata": {},
   "source": [
    "Попробуем устранить дисбаланс с помощью NearMiss"
   ]
  },
  {
   "cell_type": "code",
   "execution_count": 47,
   "metadata": {},
   "outputs": [
    {
     "name": "stdout",
     "output_type": "stream",
     "text": [
      "1: 10582\n",
      "0: 79008\n"
     ]
    }
   ],
   "source": [
    "print(f\"1: {sum(y_classification_train == 1)}\")\n",
    "print(f\"0: {sum(y_classification_train == 0)}\")"
   ]
  },
  {
   "cell_type": "code",
   "execution_count": 48,
   "metadata": {},
   "outputs": [],
   "source": [
    "nm = NearMiss()\n",
    "X_classification_train, y_classification_train = nm.fit_resample(\n",
    "    X_classification_train, y_classification_train.ravel()\n",
    ")"
   ]
  },
  {
   "cell_type": "code",
   "execution_count": 49,
   "metadata": {},
   "outputs": [
    {
     "name": "stdout",
     "output_type": "stream",
     "text": [
      "1: 10582\n",
      "0: 10582\n"
     ]
    }
   ],
   "source": [
    "print(f\"1: {sum(y_classification_train == 1)}\")\n",
    "print(f\"0: {sum(y_classification_train == 0)}\")"
   ]
  },
  {
   "cell_type": "code",
   "execution_count": 50,
   "metadata": {},
   "outputs": [
    {
     "data": {
      "text/plain": [
       "<keras.src.callbacks.History at 0x18e0cc35790>"
      ]
     },
     "execution_count": 50,
     "metadata": {},
     "output_type": "execute_result"
    }
   ],
   "source": [
    "model_classification_1 = tf.keras.Sequential(\n",
    "    [\n",
    "        tf.keras.layers.Dense(64, activation=\"relu\", input_shape=(14,)),\n",
    "        tf.keras.layers.Dense(128, activation=\"relu\"),\n",
    "        tf.keras.layers.Dropout(0.05),\n",
    "        tf.keras.layers.Dense(64, activation=\"relu\"),\n",
    "        tf.keras.layers.Dense(32, activation=\"relu\"),\n",
    "        tf.keras.layers.Dense(16, activation=\"relu\"),\n",
    "        # сначала используем 1 нейрон и sigmoid\n",
    "        tf.keras.layers.Dense(1, activation=\"sigmoid\"),\n",
    "    ]\n",
    ")\n",
    "# в качестве функции активации используется бинарная  кроссэнтропия\n",
    "model_classification_1.compile(\n",
    "    optimizer=tf.keras.optimizers.Adam(learning_rate=0.001), loss=\"mse\"\n",
    ")\n",
    "# verbose=None - не будет логов\n",
    "model_classification_1.fit(\n",
    "    X_classification_train, y_classification_train, epochs=25, verbose=None\n",
    ")"
   ]
  },
  {
   "cell_type": "code",
   "execution_count": 51,
   "metadata": {},
   "outputs": [
    {
     "name": "stdout",
     "output_type": "stream",
     "text": [
      "              precision    recall  f1-score   support\n",
      "\n",
      "           0       0.00      0.00      0.00     19752\n",
      "           1       0.12      1.00      0.21      2646\n",
      "\n",
      "    accuracy                           0.12     22398\n",
      "   macro avg       0.06      0.50      0.11     22398\n",
      "weighted avg       0.01      0.12      0.02     22398\n",
      "\n",
      "[[    0 19752]\n",
      " [    0  2646]]\n"
     ]
    },
    {
     "name": "stderr",
     "output_type": "stream",
     "text": [
      "c:\\Users\\vlszg\\AppData\\Local\\Programs\\Python\\Python311\\Lib\\site-packages\\sklearn\\metrics\\_classification.py:1471: UndefinedMetricWarning: Precision and F-score are ill-defined and being set to 0.0 in labels with no predicted samples. Use `zero_division` parameter to control this behavior.\n",
      "  _warn_prf(average, modifier, msg_start, len(result))\n",
      "c:\\Users\\vlszg\\AppData\\Local\\Programs\\Python\\Python311\\Lib\\site-packages\\sklearn\\metrics\\_classification.py:1471: UndefinedMetricWarning: Precision and F-score are ill-defined and being set to 0.0 in labels with no predicted samples. Use `zero_division` parameter to control this behavior.\n",
      "  _warn_prf(average, modifier, msg_start, len(result))\n",
      "c:\\Users\\vlszg\\AppData\\Local\\Programs\\Python\\Python311\\Lib\\site-packages\\sklearn\\metrics\\_classification.py:1471: UndefinedMetricWarning: Precision and F-score are ill-defined and being set to 0.0 in labels with no predicted samples. Use `zero_division` parameter to control this behavior.\n",
      "  _warn_prf(average, modifier, msg_start, len(result))\n"
     ]
    }
   ],
   "source": [
    "y_pred = np.around(model_classification_1.predict(X_classification_test, verbose=None))\n",
    "print(classification_report(y_classification_test, y_pred))\n",
    "print(confusion_matrix(y_classification_test, y_pred))"
   ]
  },
  {
   "cell_type": "markdown",
   "metadata": {},
   "source": [
    "с binary_crossentropy получилось лучше всего"
   ]
  },
  {
   "cell_type": "code",
   "execution_count": 52,
   "metadata": {},
   "outputs": [
    {
     "name": "stdout",
     "output_type": "stream",
     "text": [
      "              precision    recall  f1-score   support\n",
      "\n",
      "           0       1.00      0.81      0.89     19752\n",
      "           1       0.41      1.00      0.58      2646\n",
      "\n",
      "    accuracy                           0.83     22398\n",
      "   macro avg       0.70      0.90      0.74     22398\n",
      "weighted avg       0.93      0.83      0.86     22398\n",
      "\n",
      "[[15937  3815]\n",
      " [    2  2644]]\n"
     ]
    }
   ],
   "source": [
    "model_classification_1 = tf.keras.Sequential(\n",
    "    [\n",
    "        tf.keras.layers.Dense(64, activation=\"relu\", input_shape=(14,)),\n",
    "        tf.keras.layers.Dense(128, activation=\"relu\"),\n",
    "        tf.keras.layers.Dropout(0.05),\n",
    "        tf.keras.layers.Dense(64, activation=\"relu\"),\n",
    "        tf.keras.layers.Dense(32, activation=\"relu\"),\n",
    "        tf.keras.layers.Dense(16, activation=\"relu\"),\n",
    "        # используем 1 нейрон и sigmoid\n",
    "        tf.keras.layers.Dense(1, activation=\"sigmoid\"),\n",
    "    ]\n",
    ")\n",
    "model_classification_1.compile(\n",
    "    optimizer=tf.keras.optimizers.Adam(learning_rate=0.005), loss=\"binary_crossentropy\"\n",
    ")\n",
    "model_classification_1.fit(\n",
    "    X_classification_train,\n",
    "    y_classification_train,\n",
    "    epochs=25,\n",
    "    verbose=None,\n",
    "    class_weight={0: w0, 1: w1},\n",
    ")\n",
    "y_pred = np.around(model_classification_1.predict(X_classification_test, verbose=None))\n",
    "print(classification_report(y_classification_test, y_pred))\n",
    "print(confusion_matrix(y_classification_test, y_pred))"
   ]
  },
  {
   "cell_type": "code",
   "execution_count": null,
   "metadata": {},
   "outputs": [],
   "source": []
  }
 ],
 "metadata": {
  "kernelspec": {
   "display_name": "Python 3",
   "language": "python",
   "name": "python3"
  },
  "language_info": {
   "codemirror_mode": {
    "name": "ipython",
    "version": 3
   },
   "file_extension": ".py",
   "mimetype": "text/x-python",
   "name": "python",
   "nbconvert_exporter": "python",
   "pygments_lexer": "ipython3",
   "version": "3.11.5"
  },
  "orig_nbformat": 4
 },
 "nbformat": 4,
 "nbformat_minor": 2
}
